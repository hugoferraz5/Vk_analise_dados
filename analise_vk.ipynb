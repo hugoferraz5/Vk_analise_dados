{
 "cells": [
  {
   "cell_type": "markdown",
   "id": "1b667f80",
   "metadata": {},
   "source": [
    "# Cenário"
   ]
  },
  {
   "cell_type": "markdown",
   "id": "1032cc55",
   "metadata": {},
   "source": [
    "O projeto refere-se ao lançamento de um produto, que envolveu a execução de tráfego em diversos canais para atrair potenciais clientes. Foram fornecidos dados para análise descritiva, identificação de insights de negócios e sugestões de otimizações para aprimorar os resultados em futuros lançamentos. O estudo a seguir, desenvolvido para minha equipe de BI fictícia, oferece uma visão clara do lançamento para os stakeholders. Utilizei meus conhecimentos em análise de dados, incluindo o uso de Python e o cuidado na apresentação das informações de forma clara. Além disso, executei o processo de ETL, que inclui a extração dos dados fornecidos, limpeza, tratamento de valores ausentes e tipagem."
   ]
  },
  {
   "cell_type": "markdown",
   "id": "1aa87892",
   "metadata": {},
   "source": [
    "# 1. Importações"
   ]
  },
  {
   "cell_type": "code",
   "execution_count": 337,
   "id": "ed72ef66",
   "metadata": {},
   "outputs": [],
   "source": [
    "import pandas as pd\n",
    "import numpy as np\n",
    "import seaborn           as sns\n",
    "from IPython.display     import Image\n",
    "import matplotlib.pyplot as plt\n",
    "import warnings\n",
    "from random              import sample\n",
    "\n",
    "warnings.filterwarnings(\"ignore\")"
   ]
  },
  {
   "cell_type": "markdown",
   "id": "3cb831fd",
   "metadata": {},
   "source": [
    "# 2. Carregando Dados"
   ]
  },
  {
   "cell_type": "code",
   "execution_count": 980,
   "id": "ff5d8359",
   "metadata": {},
   "outputs": [],
   "source": [
    "tabela_utm = pd.read_csv(\"TabelaPesquisaUTMsn - TabelaPesquisaUTMsn.csv\")\n",
    "tabela_links = pd.read_csv(\"TabelaAdsLinks.csv\")\n",
    "tabela_vendas = pd.read_csv(\"TabelaVendas.csv\")\n",
    "tabela_pesquisa = pd.read_csv(\"TabelaPesquisa.csv\")"
   ]
  },
  {
   "cell_type": "markdown",
   "id": "b7b6ce26",
   "metadata": {},
   "source": [
    "## 2.1 Observação dos Dados"
   ]
  },
  {
   "cell_type": "markdown",
   "id": "07959ae8",
   "metadata": {},
   "source": [
    "### tabela de leads"
   ]
  },
  {
   "cell_type": "code",
   "execution_count": 981,
   "id": "899dfab5",
   "metadata": {},
   "outputs": [
    {
     "name": "stdout",
     "output_type": "stream",
     "text": [
      "Temos 9999 linhas e 6 colunas na tabela de leads.\n"
     ]
    }
   ],
   "source": [
    "print(\"Temos\", tabela_utm.shape[0], \"linhas e\", tabela_utm.shape[1], \"colunas na tabela de leads.\")"
   ]
  },
  {
   "cell_type": "code",
   "execution_count": 982,
   "id": "217a913e",
   "metadata": {},
   "outputs": [
    {
     "data": {
      "text/html": [
       "<div>\n",
       "<style scoped>\n",
       "    .dataframe tbody tr th:only-of-type {\n",
       "        vertical-align: middle;\n",
       "    }\n",
       "\n",
       "    .dataframe tbody tr th {\n",
       "        vertical-align: top;\n",
       "    }\n",
       "\n",
       "    .dataframe thead th {\n",
       "        text-align: right;\n",
       "    }\n",
       "</style>\n",
       "<table border=\"1\" class=\"dataframe\">\n",
       "  <thead>\n",
       "    <tr style=\"text-align: right;\">\n",
       "      <th></th>\n",
       "      <th>Unnamed: 0.1</th>\n",
       "      <th>Unnamed: 0</th>\n",
       "      <th>email</th>\n",
       "      <th>utmsource</th>\n",
       "      <th>utmterm</th>\n",
       "      <th>utmmedium</th>\n",
       "    </tr>\n",
       "  </thead>\n",
       "  <tbody>\n",
       "    <tr>\n",
       "      <th>1366</th>\n",
       "      <td>1366</td>\n",
       "      <td>1366</td>\n",
       "      <td>nadrilima346@gmail.com</td>\n",
       "      <td>facebookads</td>\n",
       "      <td>AD17</td>\n",
       "      <td>2.00_Compras_advantage</td>\n",
       "    </tr>\n",
       "    <tr>\n",
       "      <th>8</th>\n",
       "      <td>8</td>\n",
       "      <td>8</td>\n",
       "      <td>56@gmail.com</td>\n",
       "      <td>facebookads</td>\n",
       "      <td>AD17</td>\n",
       "      <td>2.03_lookalike_1_compras_180D_ADS_Campeoes</td>\n",
       "    </tr>\n",
       "    <tr>\n",
       "      <th>913</th>\n",
       "      <td>913</td>\n",
       "      <td>913</td>\n",
       "      <td>ycarvalho10@gmail.com</td>\n",
       "      <td>facebookads</td>\n",
       "      <td>AD31</td>\n",
       "      <td>1.02_VideoView50%_30D_AD22_30_33</td>\n",
       "    </tr>\n",
       "    <tr>\n",
       "      <th>457</th>\n",
       "      <td>457</td>\n",
       "      <td>457</td>\n",
       "      <td>apdasilva@23gmail.com</td>\n",
       "      <td>facebookads</td>\n",
       "      <td>AD17</td>\n",
       "      <td>2.03_lookalike_1_compras_180D_ADS_Campeoes</td>\n",
       "    </tr>\n",
       "    <tr>\n",
       "      <th>4652</th>\n",
       "      <td>4652</td>\n",
       "      <td>4652</td>\n",
       "      <td>amendes@yahoo.com.br</td>\n",
       "      <td>facebookads</td>\n",
       "      <td>AD35</td>\n",
       "      <td>2.03_lookalike_1_compras_180D_ADS_Campeoes</td>\n",
       "    </tr>\n",
       "  </tbody>\n",
       "</table>\n",
       "</div>"
      ],
      "text/plain": [
       "      Unnamed: 0.1  Unnamed: 0                   email    utmsource utmterm  \\\n",
       "1366          1366        1366  nadrilima346@gmail.com  facebookads    AD17   \n",
       "8                8           8            56@gmail.com  facebookads    AD17   \n",
       "913            913         913   ycarvalho10@gmail.com  facebookads    AD31   \n",
       "457            457         457   apdasilva@23gmail.com  facebookads    AD17   \n",
       "4652          4652        4652    amendes@yahoo.com.br  facebookads    AD35   \n",
       "\n",
       "                                       utmmedium  \n",
       "1366                      2.00_Compras_advantage  \n",
       "8     2.03_lookalike_1_compras_180D_ADS_Campeoes  \n",
       "913             1.02_VideoView50%_30D_AD22_30_33  \n",
       "457   2.03_lookalike_1_compras_180D_ADS_Campeoes  \n",
       "4652  2.03_lookalike_1_compras_180D_ADS_Campeoes  "
      ]
     },
     "execution_count": 982,
     "metadata": {},
     "output_type": "execute_result"
    }
   ],
   "source": [
    "tabela_utm.sample(5)"
   ]
  },
  {
   "cell_type": "markdown",
   "id": "5bcf06ca",
   "metadata": {},
   "source": [
    "### Tabela de links"
   ]
  },
  {
   "cell_type": "code",
   "execution_count": 983,
   "id": "6d1c7daa",
   "metadata": {},
   "outputs": [
    {
     "name": "stdout",
     "output_type": "stream",
     "text": [
      "Temos 53 linhas e 3 colunas na tabela de vendas.\n"
     ]
    }
   ],
   "source": [
    "print(\"Temos\", tabela_links.shape[0], \"linhas e\", tabela_links.shape[1], \"colunas na tabela de vendas.\")"
   ]
  },
  {
   "cell_type": "code",
   "execution_count": 984,
   "id": "33ad37cf",
   "metadata": {},
   "outputs": [
    {
     "data": {
      "text/html": [
       "<div>\n",
       "<style scoped>\n",
       "    .dataframe tbody tr th:only-of-type {\n",
       "        vertical-align: middle;\n",
       "    }\n",
       "\n",
       "    .dataframe tbody tr th {\n",
       "        vertical-align: top;\n",
       "    }\n",
       "\n",
       "    .dataframe thead th {\n",
       "        text-align: right;\n",
       "    }\n",
       "</style>\n",
       "<table border=\"1\" class=\"dataframe\">\n",
       "  <thead>\n",
       "    <tr style=\"text-align: right;\">\n",
       "      <th></th>\n",
       "      <th>Unnamed: 0</th>\n",
       "      <th>utmterm</th>\n",
       "      <th>instagram_permalink_url</th>\n",
       "    </tr>\n",
       "  </thead>\n",
       "  <tbody>\n",
       "    <tr>\n",
       "      <th>0</th>\n",
       "      <td>0</td>\n",
       "      <td>AD17</td>\n",
       "      <td>https://www.instagram.com/p/C1YOilJAw9s/</td>\n",
       "    </tr>\n",
       "    <tr>\n",
       "      <th>1</th>\n",
       "      <td>163260</td>\n",
       "      <td>AD12</td>\n",
       "      <td>https://www.instagram.com/p/C1YOirrg95A/</td>\n",
       "    </tr>\n",
       "    <tr>\n",
       "      <th>2</th>\n",
       "      <td>169074</td>\n",
       "      <td>AD16</td>\n",
       "      <td>https://www.instagram.com/p/C1LQw8NgSsP/</td>\n",
       "    </tr>\n",
       "    <tr>\n",
       "      <th>3</th>\n",
       "      <td>172202</td>\n",
       "      <td>AD21</td>\n",
       "      <td>https://www.instagram.com/p/C1LN_FYAQJg/</td>\n",
       "    </tr>\n",
       "    <tr>\n",
       "      <th>4</th>\n",
       "      <td>177674</td>\n",
       "      <td>AD63</td>\n",
       "      <td>https://www.instagram.com/p/C18R6JEgJ-n/</td>\n",
       "    </tr>\n",
       "  </tbody>\n",
       "</table>\n",
       "</div>"
      ],
      "text/plain": [
       "   Unnamed: 0 utmterm                   instagram_permalink_url\n",
       "0           0    AD17  https://www.instagram.com/p/C1YOilJAw9s/\n",
       "1      163260    AD12  https://www.instagram.com/p/C1YOirrg95A/\n",
       "2      169074    AD16  https://www.instagram.com/p/C1LQw8NgSsP/\n",
       "3      172202    AD21  https://www.instagram.com/p/C1LN_FYAQJg/\n",
       "4      177674    AD63  https://www.instagram.com/p/C18R6JEgJ-n/"
      ]
     },
     "execution_count": 984,
     "metadata": {},
     "output_type": "execute_result"
    }
   ],
   "source": [
    "tabela_links.head(5)"
   ]
  },
  {
   "cell_type": "markdown",
   "id": "bf7f989a",
   "metadata": {},
   "source": [
    "### Tabela de compradores"
   ]
  },
  {
   "cell_type": "code",
   "execution_count": 985,
   "id": "b09f6453",
   "metadata": {},
   "outputs": [
    {
     "name": "stdout",
     "output_type": "stream",
     "text": [
      "Temos 71 linhas e 3 colunas na tabela de vendas.\n"
     ]
    }
   ],
   "source": [
    "print(\"Temos\", tabela_vendas.shape[0], \"linhas e\", tabela_vendas.shape[1], \"colunas na tabela de vendas.\")"
   ]
  },
  {
   "cell_type": "code",
   "execution_count": 986,
   "id": "359ede7d",
   "metadata": {},
   "outputs": [
    {
     "data": {
      "text/html": [
       "<div>\n",
       "<style scoped>\n",
       "    .dataframe tbody tr th:only-of-type {\n",
       "        vertical-align: middle;\n",
       "    }\n",
       "\n",
       "    .dataframe tbody tr th {\n",
       "        vertical-align: top;\n",
       "    }\n",
       "\n",
       "    .dataframe thead th {\n",
       "        text-align: right;\n",
       "    }\n",
       "</style>\n",
       "<table border=\"1\" class=\"dataframe\">\n",
       "  <thead>\n",
       "    <tr style=\"text-align: right;\">\n",
       "      <th></th>\n",
       "      <th>Unnamed: 0.1</th>\n",
       "      <th>Unnamed: 0</th>\n",
       "      <th>email</th>\n",
       "    </tr>\n",
       "  </thead>\n",
       "  <tbody>\n",
       "    <tr>\n",
       "      <th>0</th>\n",
       "      <td>0</td>\n",
       "      <td>0</td>\n",
       "      <td>andra_miao@hotmail.com</td>\n",
       "    </tr>\n",
       "    <tr>\n",
       "      <th>1</th>\n",
       "      <td>1</td>\n",
       "      <td>1</td>\n",
       "      <td>tu@gmail.com</td>\n",
       "    </tr>\n",
       "    <tr>\n",
       "      <th>2</th>\n",
       "      <td>2</td>\n",
       "      <td>2</td>\n",
       "      <td>oriomoderno23@gmail.com</td>\n",
       "    </tr>\n",
       "    <tr>\n",
       "      <th>3</th>\n",
       "      <td>3</td>\n",
       "      <td>3</td>\n",
       "      <td>cebarbosa80@gmail.com</td>\n",
       "    </tr>\n",
       "    <tr>\n",
       "      <th>4</th>\n",
       "      <td>4</td>\n",
       "      <td>4</td>\n",
       "      <td>alisane@hotmail.com</td>\n",
       "    </tr>\n",
       "  </tbody>\n",
       "</table>\n",
       "</div>"
      ],
      "text/plain": [
       "   Unnamed: 0.1  Unnamed: 0                    email\n",
       "0             0           0   andra_miao@hotmail.com\n",
       "1             1           1             tu@gmail.com\n",
       "2             2           2  oriomoderno23@gmail.com\n",
       "3             3           3    cebarbosa80@gmail.com\n",
       "4             4           4      alisane@hotmail.com"
      ]
     },
     "execution_count": 986,
     "metadata": {},
     "output_type": "execute_result"
    }
   ],
   "source": [
    "tabela_vendas.head(5)"
   ]
  },
  {
   "cell_type": "markdown",
   "id": "4c6bba8e",
   "metadata": {},
   "source": [
    "### Tabela de informações dos leads"
   ]
  },
  {
   "cell_type": "code",
   "execution_count": 987,
   "id": "50d772b6",
   "metadata": {},
   "outputs": [
    {
     "name": "stdout",
     "output_type": "stream",
     "text": [
      "Temos 1379 linhas e 6 colunas na tabela de pesquisa.\n"
     ]
    }
   ],
   "source": [
    "print(\"Temos\", tabela_pesquisa.shape[0], \"linhas e\", tabela_pesquisa.shape[1], \"colunas na tabela de pesquisa.\")"
   ]
  },
  {
   "cell_type": "code",
   "execution_count": 988,
   "id": "f11fd076",
   "metadata": {},
   "outputs": [
    {
     "data": {
      "text/html": [
       "<div>\n",
       "<style scoped>\n",
       "    .dataframe tbody tr th:only-of-type {\n",
       "        vertical-align: middle;\n",
       "    }\n",
       "\n",
       "    .dataframe tbody tr th {\n",
       "        vertical-align: top;\n",
       "    }\n",
       "\n",
       "    .dataframe thead th {\n",
       "        text-align: right;\n",
       "    }\n",
       "</style>\n",
       "<table border=\"1\" class=\"dataframe\">\n",
       "  <thead>\n",
       "    <tr style=\"text-align: right;\">\n",
       "      <th></th>\n",
       "      <th>Unnamed: 0.1</th>\n",
       "      <th>Unnamed: 0</th>\n",
       "      <th>email</th>\n",
       "      <th>idade</th>\n",
       "      <th>renda</th>\n",
       "      <th>tempo_me_conhece</th>\n",
       "    </tr>\n",
       "  </thead>\n",
       "  <tbody>\n",
       "    <tr>\n",
       "      <th>0</th>\n",
       "      <td>0</td>\n",
       "      <td>0</td>\n",
       "      <td>ia.souzamichatowski@gmail.com</td>\n",
       "      <td>36 a 40 anos</td>\n",
       "      <td>Até 1.500 reais</td>\n",
       "      <td>Menos de 1 mês</td>\n",
       "    </tr>\n",
       "    <tr>\n",
       "      <th>1</th>\n",
       "      <td>1</td>\n",
       "      <td>1</td>\n",
       "      <td>iamikowski@gmail.com</td>\n",
       "      <td>46 a 50 anos</td>\n",
       "      <td>Mais de 5.000 reais</td>\n",
       "      <td>Menos de 1 mês</td>\n",
       "    </tr>\n",
       "    <tr>\n",
       "      <th>2</th>\n",
       "      <td>2</td>\n",
       "      <td>2</td>\n",
       "      <td>alves11@Gmail.com</td>\n",
       "      <td>46 a 50 anos</td>\n",
       "      <td>Até 1.500 reais</td>\n",
       "      <td>Menos de 1 mês</td>\n",
       "    </tr>\n",
       "    <tr>\n",
       "      <th>3</th>\n",
       "      <td>3</td>\n",
       "      <td>3</td>\n",
       "      <td>ciell675@gmail.com</td>\n",
       "      <td>51 a 55 anos</td>\n",
       "      <td>Até 1.500 reais</td>\n",
       "      <td>Menos de 1 mês</td>\n",
       "    </tr>\n",
       "    <tr>\n",
       "      <th>4</th>\n",
       "      <td>4</td>\n",
       "      <td>4</td>\n",
       "      <td>5240da@gmail.com</td>\n",
       "      <td>31 a 35 anos</td>\n",
       "      <td>Até 1.500 reais</td>\n",
       "      <td>Menos de 1 mês</td>\n",
       "    </tr>\n",
       "  </tbody>\n",
       "</table>\n",
       "</div>"
      ],
      "text/plain": [
       "   Unnamed: 0.1  Unnamed: 0                          email         idade  \\\n",
       "0             0           0  ia.souzamichatowski@gmail.com  36 a 40 anos   \n",
       "1             1           1           iamikowski@gmail.com  46 a 50 anos   \n",
       "2             2           2              alves11@Gmail.com  46 a 50 anos   \n",
       "3             3           3             ciell675@gmail.com  51 a 55 anos   \n",
       "4             4           4               5240da@gmail.com  31 a 35 anos   \n",
       "\n",
       "                 renda tempo_me_conhece  \n",
       "0      Até 1.500 reais   Menos de 1 mês  \n",
       "1  Mais de 5.000 reais   Menos de 1 mês  \n",
       "2      Até 1.500 reais   Menos de 1 mês  \n",
       "3      Até 1.500 reais   Menos de 1 mês  \n",
       "4      Até 1.500 reais   Menos de 1 mês  "
      ]
     },
     "execution_count": 988,
     "metadata": {},
     "output_type": "execute_result"
    }
   ],
   "source": [
    "tabela_pesquisa.head(5)"
   ]
  },
  {
   "cell_type": "markdown",
   "id": "d337f707",
   "metadata": {},
   "source": [
    "### 2.1.1 Formatação dos dados"
   ]
  },
  {
   "cell_type": "markdown",
   "id": "82eb1334",
   "metadata": {},
   "source": [
    "### Tabela de leads"
   ]
  },
  {
   "cell_type": "code",
   "execution_count": 989,
   "id": "cff2a305",
   "metadata": {},
   "outputs": [
    {
     "data": {
      "text/html": [
       "<div>\n",
       "<style scoped>\n",
       "    .dataframe tbody tr th:only-of-type {\n",
       "        vertical-align: middle;\n",
       "    }\n",
       "\n",
       "    .dataframe tbody tr th {\n",
       "        vertical-align: top;\n",
       "    }\n",
       "\n",
       "    .dataframe thead th {\n",
       "        text-align: right;\n",
       "    }\n",
       "</style>\n",
       "<table border=\"1\" class=\"dataframe\">\n",
       "  <thead>\n",
       "    <tr style=\"text-align: right;\">\n",
       "      <th></th>\n",
       "      <th>email</th>\n",
       "      <th>domain</th>\n",
       "      <th>user</th>\n",
       "      <th>utm_source</th>\n",
       "      <th>utm_term</th>\n",
       "      <th>utm_medium</th>\n",
       "    </tr>\n",
       "  </thead>\n",
       "  <tbody>\n",
       "    <tr>\n",
       "      <th>0</th>\n",
       "      <td>aassis71@gmail.com</td>\n",
       "      <td>@gmail.com</td>\n",
       "      <td>aassis71</td>\n",
       "      <td>facebookads</td>\n",
       "      <td>ad17</td>\n",
       "      <td>2.03_lookalike_3_compras_180D</td>\n",
       "    </tr>\n",
       "    <tr>\n",
       "      <th>1</th>\n",
       "      <td>aelionaijs@gmail.com</td>\n",
       "      <td>@gmail.com</td>\n",
       "      <td>aelionaijs</td>\n",
       "      <td>facebookads</td>\n",
       "      <td>ad12</td>\n",
       "      <td>lookalike_1_compras_180D_AD12a17</td>\n",
       "    </tr>\n",
       "    <tr>\n",
       "      <th>2</th>\n",
       "      <td>acorreia2019@gmail.com</td>\n",
       "      <td>@gmail.com</td>\n",
       "      <td>acorreia2019</td>\n",
       "      <td>facebookads</td>\n",
       "      <td>ad12</td>\n",
       "      <td>lookalike_1_compras_180D_AD12a17</td>\n",
       "    </tr>\n",
       "    <tr>\n",
       "      <th>3</th>\n",
       "      <td>29700781sp@al.educacao.sp.gov.br</td>\n",
       "      <td>@al.educacao.sp.gov.br</td>\n",
       "      <td>29700781sp</td>\n",
       "      <td>facebookads</td>\n",
       "      <td>ad17</td>\n",
       "      <td>2.03_lookalike_3_compras_180D_ADS_Campeoes_Adv...</td>\n",
       "    </tr>\n",
       "    <tr>\n",
       "      <th>4</th>\n",
       "      <td>nthia@gmail.com</td>\n",
       "      <td>@gmail.com</td>\n",
       "      <td>nthia</td>\n",
       "      <td>bio</td>\n",
       "      <td>bio</td>\n",
       "      <td>[BIO]</td>\n",
       "    </tr>\n",
       "  </tbody>\n",
       "</table>\n",
       "</div>"
      ],
      "text/plain": [
       "                              email                  domain          user  \\\n",
       "0                aassis71@gmail.com              @gmail.com      aassis71   \n",
       "1              aelionaijs@gmail.com              @gmail.com    aelionaijs   \n",
       "2            acorreia2019@gmail.com              @gmail.com  acorreia2019   \n",
       "3  29700781sp@al.educacao.sp.gov.br  @al.educacao.sp.gov.br    29700781sp   \n",
       "4                   nthia@gmail.com              @gmail.com         nthia   \n",
       "\n",
       "    utm_source utm_term                                         utm_medium  \n",
       "0  facebookads     ad17                      2.03_lookalike_3_compras_180D  \n",
       "1  facebookads     ad12                   lookalike_1_compras_180D_AD12a17  \n",
       "2  facebookads     ad12                   lookalike_1_compras_180D_AD12a17  \n",
       "3  facebookads     ad17  2.03_lookalike_3_compras_180D_ADS_Campeoes_Adv...  \n",
       "4          bio      bio                                              [BIO]  "
      ]
     },
     "execution_count": 989,
     "metadata": {},
     "output_type": "execute_result"
    }
   ],
   "source": [
    "# Remoção de colunas inúteis\n",
    "tabela_utm.drop(tabela_utm.columns[[0, 1 ]], axis=1,inplace=True )\n",
    "# Renomear colunas\n",
    "tabela_utm.columns = ['email', 'utm_source', 'utm_term', 'utm_medium']\n",
    "# Reajuste dos dados\n",
    "tabela_utm['utm_source'] = tabela_utm['utm_source'].str.replace(r'[\\[\\]]', '', regex=True).str.lower()\n",
    "tabela_utm['utm_term'] = tabela_utm['utm_term'].str.replace(r'[\\[\\]]', '', regex=True).str.lower()\n",
    "tabela_utm['domain'] = tabela_utm['email'].str.extract(r'(@.*)')\n",
    "tabela_utm['user'] = tabela_utm['email'].str.split('@').str[0]\n",
    "# Reordenação de colunas\n",
    "tabela_utm = tabela_utm[['email','domain','user','utm_source','utm_term','utm_medium',]]\n",
    "tabela_utm.head()"
   ]
  },
  {
   "cell_type": "markdown",
   "id": "add7fc96",
   "metadata": {},
   "source": [
    "Alguns dados foram reajustados, retirando parênteses e deixando-os minúsculos para uma melhor organização.A coluna \"email\" foi dividida em 2 colunas para domínios e usuários."
   ]
  },
  {
   "cell_type": "markdown",
   "id": "2cd00520",
   "metadata": {},
   "source": [
    "### Tabela de links"
   ]
  },
  {
   "cell_type": "code",
   "execution_count": 990,
   "id": "67d72de7",
   "metadata": {},
   "outputs": [
    {
     "data": {
      "text/html": [
       "<div>\n",
       "<style scoped>\n",
       "    .dataframe tbody tr th:only-of-type {\n",
       "        vertical-align: middle;\n",
       "    }\n",
       "\n",
       "    .dataframe tbody tr th {\n",
       "        vertical-align: top;\n",
       "    }\n",
       "\n",
       "    .dataframe thead th {\n",
       "        text-align: right;\n",
       "    }\n",
       "</style>\n",
       "<table border=\"1\" class=\"dataframe\">\n",
       "  <thead>\n",
       "    <tr style=\"text-align: right;\">\n",
       "      <th></th>\n",
       "      <th>utm_term</th>\n",
       "      <th>instagram_permalink_url</th>\n",
       "      <th>path</th>\n",
       "    </tr>\n",
       "  </thead>\n",
       "  <tbody>\n",
       "    <tr>\n",
       "      <th>0</th>\n",
       "      <td>ad17</td>\n",
       "      <td>https://www.instagram.com/p/C1YOilJAw9s/</td>\n",
       "      <td>p/C1YOilJAw9s/</td>\n",
       "    </tr>\n",
       "    <tr>\n",
       "      <th>1</th>\n",
       "      <td>ad12</td>\n",
       "      <td>https://www.instagram.com/p/C1YOirrg95A/</td>\n",
       "      <td>p/C1YOirrg95A/</td>\n",
       "    </tr>\n",
       "    <tr>\n",
       "      <th>2</th>\n",
       "      <td>ad16</td>\n",
       "      <td>https://www.instagram.com/p/C1LQw8NgSsP/</td>\n",
       "      <td>p/C1LQw8NgSsP/</td>\n",
       "    </tr>\n",
       "    <tr>\n",
       "      <th>3</th>\n",
       "      <td>ad21</td>\n",
       "      <td>https://www.instagram.com/p/C1LN_FYAQJg/</td>\n",
       "      <td>p/C1LN_FYAQJg/</td>\n",
       "    </tr>\n",
       "    <tr>\n",
       "      <th>4</th>\n",
       "      <td>ad63</td>\n",
       "      <td>https://www.instagram.com/p/C18R6JEgJ-n/</td>\n",
       "      <td>p/C18R6JEgJ-n/</td>\n",
       "    </tr>\n",
       "  </tbody>\n",
       "</table>\n",
       "</div>"
      ],
      "text/plain": [
       "  utm_term                   instagram_permalink_url            path\n",
       "0     ad17  https://www.instagram.com/p/C1YOilJAw9s/  p/C1YOilJAw9s/\n",
       "1     ad12  https://www.instagram.com/p/C1YOirrg95A/  p/C1YOirrg95A/\n",
       "2     ad16  https://www.instagram.com/p/C1LQw8NgSsP/  p/C1LQw8NgSsP/\n",
       "3     ad21  https://www.instagram.com/p/C1LN_FYAQJg/  p/C1LN_FYAQJg/\n",
       "4     ad63  https://www.instagram.com/p/C18R6JEgJ-n/  p/C18R6JEgJ-n/"
      ]
     },
     "execution_count": 990,
     "metadata": {},
     "output_type": "execute_result"
    }
   ],
   "source": [
    "# Remoção de colunas inúteis\n",
    "tabela_links.drop(tabela_links.columns[0], axis=1,inplace=True )\n",
    "# Renomear colunas\n",
    "tabela_links.columns = ['utm_term', 'instagram_permalink_url']\n",
    "# Reajuste dos dados\n",
    "tabela_links['utm_term'] = tabela_links['utm_term'].str.lower()\n",
    "tabela_links['path'] = tabela_links['instagram_permalink_url'].str.replace('https://www.instagram.com/', '')\n",
    "tabela_links.head()"
   ]
  },
  {
   "cell_type": "markdown",
   "id": "be7efa0f",
   "metadata": {},
   "source": [
    "Foram realizados alguns reajustes importantes também, como deixar os dados em minúsculos e a extração do url da coluna \"permalink\" para uma melhor legibilidade.  "
   ]
  },
  {
   "cell_type": "markdown",
   "id": "c076ae17",
   "metadata": {},
   "source": [
    "### Tabela de compradores"
   ]
  },
  {
   "cell_type": "code",
   "execution_count": 991,
   "id": "e727742c",
   "metadata": {},
   "outputs": [
    {
     "data": {
      "text/html": [
       "<div>\n",
       "<style scoped>\n",
       "    .dataframe tbody tr th:only-of-type {\n",
       "        vertical-align: middle;\n",
       "    }\n",
       "\n",
       "    .dataframe tbody tr th {\n",
       "        vertical-align: top;\n",
       "    }\n",
       "\n",
       "    .dataframe thead th {\n",
       "        text-align: right;\n",
       "    }\n",
       "</style>\n",
       "<table border=\"1\" class=\"dataframe\">\n",
       "  <thead>\n",
       "    <tr style=\"text-align: right;\">\n",
       "      <th></th>\n",
       "      <th>email</th>\n",
       "      <th>domain</th>\n",
       "      <th>user</th>\n",
       "    </tr>\n",
       "  </thead>\n",
       "  <tbody>\n",
       "    <tr>\n",
       "      <th>0</th>\n",
       "      <td>andra_miao@hotmail.com</td>\n",
       "      <td>@hotmail.com</td>\n",
       "      <td>andra_miao</td>\n",
       "    </tr>\n",
       "    <tr>\n",
       "      <th>1</th>\n",
       "      <td>tu@gmail.com</td>\n",
       "      <td>@gmail.com</td>\n",
       "      <td>tu</td>\n",
       "    </tr>\n",
       "    <tr>\n",
       "      <th>2</th>\n",
       "      <td>oriomoderno23@gmail.com</td>\n",
       "      <td>@gmail.com</td>\n",
       "      <td>oriomoderno23</td>\n",
       "    </tr>\n",
       "    <tr>\n",
       "      <th>3</th>\n",
       "      <td>cebarbosa80@gmail.com</td>\n",
       "      <td>@gmail.com</td>\n",
       "      <td>cebarbosa80</td>\n",
       "    </tr>\n",
       "    <tr>\n",
       "      <th>4</th>\n",
       "      <td>alisane@hotmail.com</td>\n",
       "      <td>@hotmail.com</td>\n",
       "      <td>alisane</td>\n",
       "    </tr>\n",
       "  </tbody>\n",
       "</table>\n",
       "</div>"
      ],
      "text/plain": [
       "                     email        domain           user\n",
       "0   andra_miao@hotmail.com  @hotmail.com     andra_miao\n",
       "1             tu@gmail.com    @gmail.com             tu\n",
       "2  oriomoderno23@gmail.com    @gmail.com  oriomoderno23\n",
       "3    cebarbosa80@gmail.com    @gmail.com    cebarbosa80\n",
       "4      alisane@hotmail.com  @hotmail.com        alisane"
      ]
     },
     "execution_count": 991,
     "metadata": {},
     "output_type": "execute_result"
    }
   ],
   "source": [
    "# Remoção de colunas inúteis\n",
    "tabela_vendas.drop(tabela_vendas.columns[[0,1]], axis=1,inplace=True )\n",
    "# Reajuste dos dados\n",
    "tabela_vendas['domain'] = tabela_vendas['email'].str.extract(r'(@.*)')\n",
    "tabela_vendas['user'] = tabela_vendas['email'].str.split('@').str[0]\n",
    "\n",
    "tabela_vendas.head()"
   ]
  },
  {
   "cell_type": "markdown",
   "id": "460476ca",
   "metadata": {},
   "source": [
    "### Tabela de informações dos leads"
   ]
  },
  {
   "cell_type": "code",
   "execution_count": 992,
   "id": "07d4e7da",
   "metadata": {},
   "outputs": [
    {
     "data": {
      "text/html": [
       "<div>\n",
       "<style scoped>\n",
       "    .dataframe tbody tr th:only-of-type {\n",
       "        vertical-align: middle;\n",
       "    }\n",
       "\n",
       "    .dataframe tbody tr th {\n",
       "        vertical-align: top;\n",
       "    }\n",
       "\n",
       "    .dataframe thead th {\n",
       "        text-align: right;\n",
       "    }\n",
       "</style>\n",
       "<table border=\"1\" class=\"dataframe\">\n",
       "  <thead>\n",
       "    <tr style=\"text-align: right;\">\n",
       "      <th></th>\n",
       "      <th>email</th>\n",
       "      <th>domain</th>\n",
       "      <th>user</th>\n",
       "      <th>idade</th>\n",
       "      <th>renda</th>\n",
       "      <th>tempo_me_conhece</th>\n",
       "    </tr>\n",
       "  </thead>\n",
       "  <tbody>\n",
       "    <tr>\n",
       "      <th>0</th>\n",
       "      <td>ia.souzamichatowski@gmail.com</td>\n",
       "      <td>@gmail.com</td>\n",
       "      <td>ia.souzamichatowski</td>\n",
       "      <td>36 a 40 anos</td>\n",
       "      <td>Até 1.500 reais</td>\n",
       "      <td>Menos de 1 mês</td>\n",
       "    </tr>\n",
       "    <tr>\n",
       "      <th>1</th>\n",
       "      <td>iamikowski@gmail.com</td>\n",
       "      <td>@gmail.com</td>\n",
       "      <td>iamikowski</td>\n",
       "      <td>46 a 50 anos</td>\n",
       "      <td>Mais de 5.000 reais</td>\n",
       "      <td>Menos de 1 mês</td>\n",
       "    </tr>\n",
       "    <tr>\n",
       "      <th>2</th>\n",
       "      <td>alves11@Gmail.com</td>\n",
       "      <td>@Gmail.com</td>\n",
       "      <td>alves11</td>\n",
       "      <td>46 a 50 anos</td>\n",
       "      <td>Até 1.500 reais</td>\n",
       "      <td>Menos de 1 mês</td>\n",
       "    </tr>\n",
       "    <tr>\n",
       "      <th>3</th>\n",
       "      <td>ciell675@gmail.com</td>\n",
       "      <td>@gmail.com</td>\n",
       "      <td>ciell675</td>\n",
       "      <td>51 a 55 anos</td>\n",
       "      <td>Até 1.500 reais</td>\n",
       "      <td>Menos de 1 mês</td>\n",
       "    </tr>\n",
       "    <tr>\n",
       "      <th>4</th>\n",
       "      <td>5240da@gmail.com</td>\n",
       "      <td>@gmail.com</td>\n",
       "      <td>5240da</td>\n",
       "      <td>31 a 35 anos</td>\n",
       "      <td>Até 1.500 reais</td>\n",
       "      <td>Menos de 1 mês</td>\n",
       "    </tr>\n",
       "  </tbody>\n",
       "</table>\n",
       "</div>"
      ],
      "text/plain": [
       "                           email      domain                 user  \\\n",
       "0  ia.souzamichatowski@gmail.com  @gmail.com  ia.souzamichatowski   \n",
       "1           iamikowski@gmail.com  @gmail.com           iamikowski   \n",
       "2              alves11@Gmail.com  @Gmail.com              alves11   \n",
       "3             ciell675@gmail.com  @gmail.com             ciell675   \n",
       "4               5240da@gmail.com  @gmail.com               5240da   \n",
       "\n",
       "          idade                renda tempo_me_conhece  \n",
       "0  36 a 40 anos      Até 1.500 reais   Menos de 1 mês  \n",
       "1  46 a 50 anos  Mais de 5.000 reais   Menos de 1 mês  \n",
       "2  46 a 50 anos      Até 1.500 reais   Menos de 1 mês  \n",
       "3  51 a 55 anos      Até 1.500 reais   Menos de 1 mês  \n",
       "4  31 a 35 anos      Até 1.500 reais   Menos de 1 mês  "
      ]
     },
     "execution_count": 992,
     "metadata": {},
     "output_type": "execute_result"
    }
   ],
   "source": [
    "tabela_pesquisa.drop(tabela_pesquisa.columns[[0,1]], axis=1,inplace=True )\n",
    "tabela_pesquisa['domain'] = tabela_pesquisa['email'].str.extract(r'(@.*)')\n",
    "tabela_pesquisa['user'] = tabela_pesquisa['email'].str.split('@').str[0]\n",
    "tabela_pesquisa = tabela_pesquisa[['email','domain','user','idade','renda','tempo_me_conhece']]\n",
    "tabela_pesquisa = tabela_pesquisa.drop_duplicates()\n",
    "tabela_pesquisa.head()"
   ]
  },
  {
   "cell_type": "markdown",
   "id": "78e8db3e",
   "metadata": {},
   "source": [
    "Nessa tabela de informações pessoais sobre os leads, foram realizadas ajustes importantes como a separação da coluna \"email\" em domínios e usuários, além da remoção de linhas repetidas para não influenciar na análise de dados mais a frente."
   ]
  },
  {
   "cell_type": "markdown",
   "id": "a6860db9",
   "metadata": {},
   "source": [
    "## 2.2 Checando e tratando os dados vazios"
   ]
  },
  {
   "cell_type": "markdown",
   "id": "ece2e6b7",
   "metadata": {},
   "source": [
    "### Tabela de leads"
   ]
  },
  {
   "cell_type": "code",
   "execution_count": 863,
   "id": "aea98d9f",
   "metadata": {},
   "outputs": [
    {
     "data": {
      "text/plain": [
       "email          0\n",
       "domain        15\n",
       "user           0\n",
       "utm_source     3\n",
       "utm_term       3\n",
       "utm_medium     3\n",
       "dtype: int64"
      ]
     },
     "execution_count": 863,
     "metadata": {},
     "output_type": "execute_result"
    }
   ],
   "source": [
    "tabela_utm.isna().sum()"
   ]
  },
  {
   "cell_type": "markdown",
   "id": "b9b16ab2",
   "metadata": {},
   "source": [
    "Após a análise, identificamos e-mails duplicados, sem domínio ou incompletos. No entanto, nenhum desses dados será removido, pois todos representam leads válidos e individuais, sejam eles gerados a partir de e-mails verdadeiros ou inseridos aleatoriamente por motivos pessoais. Estes registros continuam a ser considerados como leads relevantes."
   ]
  },
  {
   "cell_type": "markdown",
   "id": "fc7249e4",
   "metadata": {},
   "source": [
    "### Tabela de links"
   ]
  },
  {
   "cell_type": "code",
   "execution_count": 865,
   "id": "388fc497",
   "metadata": {},
   "outputs": [
    {
     "data": {
      "text/plain": [
       "utm_term                   0\n",
       "instagram_permalink_url    0\n",
       "path                       0\n",
       "dtype: int64"
      ]
     },
     "execution_count": 865,
     "metadata": {},
     "output_type": "execute_result"
    }
   ],
   "source": [
    "tabela_links.isna().sum()"
   ]
  },
  {
   "cell_type": "markdown",
   "id": "b408e68a",
   "metadata": {},
   "source": [
    "### Tabela de compradores"
   ]
  },
  {
   "cell_type": "code",
   "execution_count": 867,
   "id": "5d2ca392",
   "metadata": {},
   "outputs": [
    {
     "data": {
      "text/plain": [
       "email     0\n",
       "domain    1\n",
       "user      0\n",
       "dtype: int64"
      ]
     },
     "execution_count": 867,
     "metadata": {},
     "output_type": "execute_result"
    }
   ],
   "source": [
    "tabela_vendas.isna().sum()"
   ]
  },
  {
   "cell_type": "markdown",
   "id": "665c4455",
   "metadata": {},
   "source": [
    "Nessa tabela, não será removido ou preenchido nenhum dado de compradores vazios pelo mesmo motivo que não foi da tabela de tráfego de leads."
   ]
  },
  {
   "cell_type": "markdown",
   "id": "9662ceff",
   "metadata": {},
   "source": [
    "### Tabela de informações de leads"
   ]
  },
  {
   "cell_type": "code",
   "execution_count": 869,
   "id": "4aaafee6",
   "metadata": {},
   "outputs": [
    {
     "data": {
      "text/plain": [
       "email               0\n",
       "domain              1\n",
       "user                0\n",
       "idade               0\n",
       "renda               0\n",
       "tempo_me_conhece    0\n",
       "dtype: int64"
      ]
     },
     "execution_count": 869,
     "metadata": {},
     "output_type": "execute_result"
    }
   ],
   "source": [
    "tabela_pesquisa.isna().sum()"
   ]
  },
  {
   "cell_type": "markdown",
   "id": "dd9aa135",
   "metadata": {},
   "source": [
    "Nessa tabela, não será removido ou preenchido nenhum dado pessoal vazio de um lead pelo mesmo motivo que não foi da tabela de tráfego de leads."
   ]
  },
  {
   "cell_type": "markdown",
   "id": "e8746783",
   "metadata": {},
   "source": [
    "## 2.3 Alterando os tipos de dados"
   ]
  },
  {
   "cell_type": "code",
   "execution_count": 870,
   "id": "5b5071e1",
   "metadata": {},
   "outputs": [
    {
     "data": {
      "text/plain": [
       "email         object\n",
       "domain        object\n",
       "user          object\n",
       "utm_source    object\n",
       "utm_term      object\n",
       "utm_medium    object\n",
       "dtype: object"
      ]
     },
     "execution_count": 870,
     "metadata": {},
     "output_type": "execute_result"
    }
   ],
   "source": [
    "tabela_utm.dtypes"
   ]
  },
  {
   "cell_type": "code",
   "execution_count": 871,
   "id": "a4ffa76c",
   "metadata": {},
   "outputs": [
    {
     "data": {
      "text/plain": [
       "utm_term                   object\n",
       "instagram_permalink_url    object\n",
       "path                       object\n",
       "dtype: object"
      ]
     },
     "execution_count": 871,
     "metadata": {},
     "output_type": "execute_result"
    }
   ],
   "source": [
    "tabela_links.dtypes"
   ]
  },
  {
   "cell_type": "code",
   "execution_count": 872,
   "id": "9a289d6f",
   "metadata": {},
   "outputs": [
    {
     "data": {
      "text/plain": [
       "email     object\n",
       "domain    object\n",
       "user      object\n",
       "dtype: object"
      ]
     },
     "execution_count": 872,
     "metadata": {},
     "output_type": "execute_result"
    }
   ],
   "source": [
    "tabela_vendas.dtypes"
   ]
  },
  {
   "cell_type": "code",
   "execution_count": 873,
   "id": "5b0c37ff",
   "metadata": {},
   "outputs": [
    {
     "data": {
      "text/plain": [
       "email               object\n",
       "domain              object\n",
       "user                object\n",
       "idade               object\n",
       "renda               object\n",
       "tempo_me_conhece    object\n",
       "dtype: object"
      ]
     },
     "execution_count": 873,
     "metadata": {},
     "output_type": "execute_result"
    }
   ],
   "source": [
    "tabela_pesquisa.dtypes"
   ]
  },
  {
   "cell_type": "code",
   "execution_count": 874,
   "id": "09c53ebb",
   "metadata": {},
   "outputs": [],
   "source": [
    "a = pd.CategoricalDtype(categories=['até 20 anos', '21 a 25 anos', '26 a 30 anos', '31 a 35 anos', \n",
    "                                    '36 a 40 anos', '41 a 45 anos', '46 a 50 anos', '51 a 55 anos', \n",
    "                                    '56 a 60 anos', 'acima de 60'], ordered=True)\n",
    "\n",
    "tabela_pesquisa['idade'] = tabela_pesquisa['idade'].astype(a)\n",
    "\n",
    "b = pd.CategoricalDtype(categories=['Até 1.500 reais', 'De 1.500 a 3.000 reais', 'De 3.000 reais a 5.000 reais',\n",
    "                                    'Mais de 5.000 reais'], ordered=True)\n",
    "\n",
    "tabela_pesquisa['renda'] = tabela_pesquisa['renda'].astype(b)\n",
    "\n",
    "c = pd.CategoricalDtype(categories=['Menos de 1 mês', 'De 2 a 6 meses', 'De 6 meses a 1 ano',\n",
    "                                    'De 1 a 2 anos','Mais de 2 anos'], ordered=True)\n",
    "\n",
    "tabela_pesquisa['tempo_me_conhece'] = tabela_pesquisa['tempo_me_conhece'].astype(c)"
   ]
  },
  {
   "cell_type": "code",
   "execution_count": 875,
   "id": "b9c4ab17",
   "metadata": {},
   "outputs": [
    {
     "data": {
      "text/plain": [
       "email                 object\n",
       "domain                object\n",
       "user                  object\n",
       "idade               category\n",
       "renda               category\n",
       "tempo_me_conhece    category\n",
       "dtype: object"
      ]
     },
     "execution_count": 875,
     "metadata": {},
     "output_type": "execute_result"
    }
   ],
   "source": [
    "tabela_pesquisa.dtypes"
   ]
  },
  {
   "cell_type": "markdown",
   "id": "e2980389",
   "metadata": {},
   "source": [
    "# 3. Análise dos Dados"
   ]
  },
  {
   "cell_type": "markdown",
   "id": "033eed8f",
   "metadata": {},
   "source": [
    "## 3.1 Análise Univariada"
   ]
  },
  {
   "cell_type": "markdown",
   "id": "128386a9",
   "metadata": {},
   "source": [
    "### 3.1.1 Tabela de leads"
   ]
  },
  {
   "cell_type": "markdown",
   "id": "af60e11a",
   "metadata": {},
   "source": [
    "#### Variável `domain`"
   ]
  },
  {
   "cell_type": "code",
   "execution_count": 876,
   "id": "0cbde20b",
   "metadata": {},
   "outputs": [
    {
     "data": {
      "text/plain": [
       "count           9984\n",
       "unique           245\n",
       "top       @gmail.com\n",
       "freq            7307\n",
       "Name: domain, dtype: object"
      ]
     },
     "execution_count": 876,
     "metadata": {},
     "output_type": "execute_result"
    }
   ],
   "source": [
    "tabela_utm['domain'].describe()"
   ]
  },
  {
   "cell_type": "code",
   "execution_count": 877,
   "id": "0a9a4281",
   "metadata": {},
   "outputs": [
    {
     "data": {
      "text/html": [
       "<div>\n",
       "<style scoped>\n",
       "    .dataframe tbody tr th:only-of-type {\n",
       "        vertical-align: middle;\n",
       "    }\n",
       "\n",
       "    .dataframe tbody tr th {\n",
       "        vertical-align: top;\n",
       "    }\n",
       "\n",
       "    .dataframe thead th {\n",
       "        text-align: right;\n",
       "    }\n",
       "</style>\n",
       "<table border=\"1\" class=\"dataframe\">\n",
       "  <thead>\n",
       "    <tr style=\"text-align: right;\">\n",
       "      <th></th>\n",
       "      <th>Dominio</th>\n",
       "      <th>Porcentagem</th>\n",
       "    </tr>\n",
       "  </thead>\n",
       "  <tbody>\n",
       "    <tr>\n",
       "      <th>0</th>\n",
       "      <td>@gmail.com</td>\n",
       "      <td>73.2%</td>\n",
       "    </tr>\n",
       "    <tr>\n",
       "      <th>1</th>\n",
       "      <td>@hotmail.com</td>\n",
       "      <td>15.3%</td>\n",
       "    </tr>\n",
       "    <tr>\n",
       "      <th>2</th>\n",
       "      <td>@yahoo.com.br</td>\n",
       "      <td>3.2%</td>\n",
       "    </tr>\n",
       "    <tr>\n",
       "      <th>3</th>\n",
       "      <td>@outlook.com</td>\n",
       "      <td>1.8%</td>\n",
       "    </tr>\n",
       "    <tr>\n",
       "      <th>4</th>\n",
       "      <td>@icloud.com</td>\n",
       "      <td>0.5%</td>\n",
       "    </tr>\n",
       "    <tr>\n",
       "      <th>...</th>\n",
       "      <td>...</td>\n",
       "      <td>...</td>\n",
       "    </tr>\n",
       "    <tr>\n",
       "      <th>240</th>\n",
       "      <td>@gmail.comlq</td>\n",
       "      <td>0.0%</td>\n",
       "    </tr>\n",
       "    <tr>\n",
       "      <th>241</th>\n",
       "      <td>@yahoi.com.br</td>\n",
       "      <td>0.0%</td>\n",
       "    </tr>\n",
       "    <tr>\n",
       "      <th>242</th>\n",
       "      <td>@hmail.com</td>\n",
       "      <td>0.0%</td>\n",
       "    </tr>\n",
       "    <tr>\n",
       "      <th>243</th>\n",
       "      <td>@gmail.br</td>\n",
       "      <td>0.0%</td>\n",
       "    </tr>\n",
       "    <tr>\n",
       "      <th>244</th>\n",
       "      <td>@gmaiol.com</td>\n",
       "      <td>0.0%</td>\n",
       "    </tr>\n",
       "  </tbody>\n",
       "</table>\n",
       "<p>245 rows × 2 columns</p>\n",
       "</div>"
      ],
      "text/plain": [
       "           Dominio Porcentagem\n",
       "0       @gmail.com       73.2%\n",
       "1     @hotmail.com       15.3%\n",
       "2    @yahoo.com.br        3.2%\n",
       "3     @outlook.com        1.8%\n",
       "4      @icloud.com        0.5%\n",
       "..             ...         ...\n",
       "240   @gmail.comlq        0.0%\n",
       "241  @yahoi.com.br        0.0%\n",
       "242     @hmail.com        0.0%\n",
       "243      @gmail.br        0.0%\n",
       "244    @gmaiol.com        0.0%\n",
       "\n",
       "[245 rows x 2 columns]"
      ]
     },
     "execution_count": 877,
     "metadata": {},
     "output_type": "execute_result"
    }
   ],
   "source": [
    "# Contagem normalizadas\n",
    "counts = tabela_utm['domain'].value_counts(normalize=True)\n",
    "percentages = (counts * 100).round(1).astype(str) + '%'\n",
    "\n",
    "# DataFrame da coluna domínio com suas porcentagens\n",
    "result_utm = pd.DataFrame({'Dominio': counts.index, 'Porcentagem': percentages}).reset_index(drop=True)\n",
    "result_utm"
   ]
  },
  {
   "cell_type": "code",
   "execution_count": 878,
   "id": "ed46826c",
   "metadata": {},
   "outputs": [
    {
     "data": {
      "image/png": "[encoded data removed]",
      "text/plain": [
       "<Figure size 1200x600 with 1 Axes>"
      ]
     },
     "metadata": {},
     "output_type": "display_data"
    }
   ],
   "source": [
    "# Plotagem\n",
    "\n",
    "domain_counts = tabela_utm['domain'].value_counts(normalize=True)\n",
    "\n",
    "colors = sns.color_palette(\"Set2\")\n",
    "\n",
    "# Aumenta o tamanho da figura para dar mais espaço\n",
    "plt.figure(figsize=(12, 6))\n",
    "\n",
    "domain_counts.head().plot(kind=\"barh\", color=colors)\n",
    "\n",
    "plt.title(\"Proporção do domínio dos leads\")\n",
    "plt.legend().set_visible(False)\n",
    "\n",
    "# Inverte a ordem para exibir o maior valor na parte superior\n",
    "plt.gca().invert_yaxis()\n",
    "\n",
    "# Ajusta as margens para dar mais espaço à direita\n",
    "plt.subplots_adjust(right=0.85)\n",
    "\n",
    "# Adiciona os valores de proporção do lado direito das barras com ajuste\n",
    "for index, value in enumerate(domain_counts.head()):\n",
    "    plt.text(value, index, f'{value:.2%}', va='center', color='black', ha='left', fontsize=10)\n",
    "\n",
    "# Ajusta o layout para evitar cortes\n",
    "plt.tight_layout()\n",
    "\n",
    "# Remove o nome da coluna do eixo y\n",
    "plt.gca().set_ylabel('')\n",
    "\n",
    "plt.show()"
   ]
  },
  {
   "cell_type": "markdown",
   "id": "03a6a454",
   "metadata": {},
   "source": [
    "Dentre os 5 maiores domínios dos leads, observamos que a grande maioria, representando **73,19%**, utiliza o `Gmail` regularmente em seu dia a dia, o que significa que podemos investir em tráfegos pagos via **gmail.com**."
   ]
  },
  {
   "cell_type": "markdown",
   "id": "a8502136",
   "metadata": {},
   "source": [
    "#### variável `utm_source`"
   ]
  },
  {
   "cell_type": "code",
   "execution_count": 879,
   "id": "a59c5a98",
   "metadata": {},
   "outputs": [
    {
     "data": {
      "text/plain": [
       "count            9996\n",
       "unique             11\n",
       "top       facebookads\n",
       "freq             8404\n",
       "Name: utm_source, dtype: object"
      ]
     },
     "execution_count": 879,
     "metadata": {},
     "output_type": "execute_result"
    }
   ],
   "source": [
    "tabela_utm['utm_source'].describe()"
   ]
  },
  {
   "cell_type": "code",
   "execution_count": 880,
   "id": "b61ebfcf",
   "metadata": {},
   "outputs": [
    {
     "data": {
      "text/html": [
       "<div>\n",
       "<style scoped>\n",
       "    .dataframe tbody tr th:only-of-type {\n",
       "        vertical-align: middle;\n",
       "    }\n",
       "\n",
       "    .dataframe tbody tr th {\n",
       "        vertical-align: top;\n",
       "    }\n",
       "\n",
       "    .dataframe thead th {\n",
       "        text-align: right;\n",
       "    }\n",
       "</style>\n",
       "<table border=\"1\" class=\"dataframe\">\n",
       "  <thead>\n",
       "    <tr style=\"text-align: right;\">\n",
       "      <th></th>\n",
       "      <th>utm_source</th>\n",
       "      <th>Porcentagem</th>\n",
       "    </tr>\n",
       "  </thead>\n",
       "  <tbody>\n",
       "    <tr>\n",
       "      <th>0</th>\n",
       "      <td>facebookads</td>\n",
       "      <td>84.1%</td>\n",
       "    </tr>\n",
       "    <tr>\n",
       "      <th>1</th>\n",
       "      <td>manychat</td>\n",
       "      <td>6.0%</td>\n",
       "    </tr>\n",
       "    <tr>\n",
       "      <th>2</th>\n",
       "      <td>bio</td>\n",
       "      <td>3.2%</td>\n",
       "    </tr>\n",
       "    <tr>\n",
       "      <th>3</th>\n",
       "      <td>googleads</td>\n",
       "      <td>2.6%</td>\n",
       "    </tr>\n",
       "    <tr>\n",
       "      <th>4</th>\n",
       "      <td>stories</td>\n",
       "      <td>2.5%</td>\n",
       "    </tr>\n",
       "    <tr>\n",
       "      <th>5</th>\n",
       "      <td>email</td>\n",
       "      <td>1.1%</td>\n",
       "    </tr>\n",
       "    <tr>\n",
       "      <th>6</th>\n",
       "      <td>whatsapp</td>\n",
       "      <td>0.3%</td>\n",
       "    </tr>\n",
       "    <tr>\n",
       "      <th>7</th>\n",
       "      <td>direct</td>\n",
       "      <td>0.1%</td>\n",
       "    </tr>\n",
       "    <tr>\n",
       "      <th>8</th>\n",
       "      <td>shorts</td>\n",
       "      <td>0.1%</td>\n",
       "    </tr>\n",
       "    <tr>\n",
       "      <th>9</th>\n",
       "      <td>youtube</td>\n",
       "      <td>0.0%</td>\n",
       "    </tr>\n",
       "    <tr>\n",
       "      <th>10</th>\n",
       "      <td>sem-utmsource</td>\n",
       "      <td>0.0%</td>\n",
       "    </tr>\n",
       "  </tbody>\n",
       "</table>\n",
       "</div>"
      ],
      "text/plain": [
       "       utm_source Porcentagem\n",
       "0     facebookads       84.1%\n",
       "1        manychat        6.0%\n",
       "2             bio        3.2%\n",
       "3       googleads        2.6%\n",
       "4         stories        2.5%\n",
       "5           email        1.1%\n",
       "6        whatsapp        0.3%\n",
       "7          direct        0.1%\n",
       "8          shorts        0.1%\n",
       "9         youtube        0.0%\n",
       "10  sem-utmsource        0.0%"
      ]
     },
     "execution_count": 880,
     "metadata": {},
     "output_type": "execute_result"
    }
   ],
   "source": [
    "# Contagem normalizadas\n",
    "counts = tabela_utm['utm_source'].value_counts(normalize=True)\n",
    "percentages = (counts * 100).round(1).astype(str) + '%'\n",
    "\n",
    "# DataFrame da coluna utm_source com suas porcentagens\n",
    "result_utm = pd.DataFrame({'utm_source': counts.index, 'Porcentagem': percentages}).reset_index(drop=True)\n",
    "result_utm"
   ]
  },
  {
   "cell_type": "code",
   "execution_count": 881,
   "id": "35d5b1f8",
   "metadata": {},
   "outputs": [
    {
     "data": {
      "image/png": "[encoded data removed]",
      "text/plain": [
       "<Figure size 1200x600 with 1 Axes>"
      ]
     },
     "metadata": {},
     "output_type": "display_data"
    }
   ],
   "source": [
    "# Plotagem\n",
    "\n",
    "source_counts = tabela_utm['utm_source'].value_counts(normalize=True)\n",
    "\n",
    "colors = sns.color_palette(\"Set2\")\n",
    "\n",
    "# Aumenta o tamanho da figura para dar mais espaço\n",
    "plt.figure(figsize=(12, 6))\n",
    "\n",
    "source_counts.plot(kind=\"barh\", color=colors)\n",
    "\n",
    "plt.title(\"Proporção do utm_source dos leads\")\n",
    "plt.legend().set_visible(False)\n",
    "\n",
    "# Inverte a ordem para exibir o maior valor na parte superior\n",
    "plt.gca().invert_yaxis()\n",
    "\n",
    "# Ajusta as margens para dar mais espaço à direita\n",
    "plt.subplots_adjust(right=0.85)\n",
    "\n",
    "# Adiciona os valores de proporção do lado direito das barras com ajuste\n",
    "for index, value in enumerate(source_counts):\n",
    "    plt.text(value, index, f'{value:.2%}', va='center', color='black', ha='left', fontsize=10)\n",
    "\n",
    "# Ajusta o layout para evitar cortes\n",
    "plt.tight_layout()\n",
    "\n",
    "# Remove o nome da coluna do eixo y\n",
    "plt.gca().set_ylabel('')\n",
    "\n",
    "plt.show()"
   ]
  },
  {
   "cell_type": "markdown",
   "id": "425332b5",
   "metadata": {},
   "source": [
    "O gráfico acima mostra que **84.07%** do tráfego dos leads vieram do `facebookads`, ou seja, a grande maioria usa essa plataforma de anúncios.Também, pode ser investido anúncios no **facebookads**."
   ]
  },
  {
   "cell_type": "markdown",
   "id": "09225b7e",
   "metadata": {},
   "source": [
    "#### Variável `utm_term`"
   ]
  },
  {
   "cell_type": "code",
   "execution_count": 882,
   "id": "22c1c4e1",
   "metadata": {},
   "outputs": [
    {
     "data": {
      "text/plain": [
       "count     9996\n",
       "unique      95\n",
       "top       ad17\n",
       "freq      3628\n",
       "Name: utm_term, dtype: object"
      ]
     },
     "execution_count": 882,
     "metadata": {},
     "output_type": "execute_result"
    }
   ],
   "source": [
    "tabela_utm['utm_term'].describe()"
   ]
  },
  {
   "cell_type": "code",
   "execution_count": 883,
   "id": "665c2ccb",
   "metadata": {},
   "outputs": [
    {
     "data": {
      "text/html": [
       "<div>\n",
       "<style scoped>\n",
       "    .dataframe tbody tr th:only-of-type {\n",
       "        vertical-align: middle;\n",
       "    }\n",
       "\n",
       "    .dataframe tbody tr th {\n",
       "        vertical-align: top;\n",
       "    }\n",
       "\n",
       "    .dataframe thead th {\n",
       "        text-align: right;\n",
       "    }\n",
       "</style>\n",
       "<table border=\"1\" class=\"dataframe\">\n",
       "  <thead>\n",
       "    <tr style=\"text-align: right;\">\n",
       "      <th></th>\n",
       "      <th>utm_term</th>\n",
       "      <th>Porcentagem</th>\n",
       "    </tr>\n",
       "  </thead>\n",
       "  <tbody>\n",
       "    <tr>\n",
       "      <th>0</th>\n",
       "      <td>ad17</td>\n",
       "      <td>36.3%</td>\n",
       "    </tr>\n",
       "    <tr>\n",
       "      <th>1</th>\n",
       "      <td>ad19</td>\n",
       "      <td>17.2%</td>\n",
       "    </tr>\n",
       "    <tr>\n",
       "      <th>2</th>\n",
       "      <td>barriga-negativa</td>\n",
       "      <td>6.1%</td>\n",
       "    </tr>\n",
       "    <tr>\n",
       "      <th>3</th>\n",
       "      <td>ad35</td>\n",
       "      <td>3.7%</td>\n",
       "    </tr>\n",
       "    <tr>\n",
       "      <th>4</th>\n",
       "      <td>ad63</td>\n",
       "      <td>3.5%</td>\n",
       "    </tr>\n",
       "    <tr>\n",
       "      <th>...</th>\n",
       "      <td>...</td>\n",
       "      <td>...</td>\n",
       "    </tr>\n",
       "    <tr>\n",
       "      <th>90</th>\n",
       "      <td>ad_01</td>\n",
       "      <td>0.0%</td>\n",
       "    </tr>\n",
       "    <tr>\n",
       "      <th>91</th>\n",
       "      <td>manychat</td>\n",
       "      <td>0.0%</td>\n",
       "    </tr>\n",
       "    <tr>\n",
       "      <th>92</th>\n",
       "      <td>ad32</td>\n",
       "      <td>0.0%</td>\n",
       "    </tr>\n",
       "    <tr>\n",
       "      <th>93</th>\n",
       "      <td>sem-utmterm</td>\n",
       "      <td>0.0%</td>\n",
       "    </tr>\n",
       "    <tr>\n",
       "      <th>94</th>\n",
       "      <td>ad73</td>\n",
       "      <td>0.0%</td>\n",
       "    </tr>\n",
       "  </tbody>\n",
       "</table>\n",
       "<p>95 rows × 2 columns</p>\n",
       "</div>"
      ],
      "text/plain": [
       "            utm_term Porcentagem\n",
       "0               ad17       36.3%\n",
       "1               ad19       17.2%\n",
       "2   barriga-negativa        6.1%\n",
       "3               ad35        3.7%\n",
       "4               ad63        3.5%\n",
       "..               ...         ...\n",
       "90             ad_01        0.0%\n",
       "91         manychat         0.0%\n",
       "92              ad32        0.0%\n",
       "93       sem-utmterm        0.0%\n",
       "94              ad73        0.0%\n",
       "\n",
       "[95 rows x 2 columns]"
      ]
     },
     "execution_count": 883,
     "metadata": {},
     "output_type": "execute_result"
    }
   ],
   "source": [
    "# Contagem normalizadas\n",
    "counts = tabela_utm['utm_term'].value_counts(normalize=True)\n",
    "percentages = (counts * 100).round(1).astype(str) + '%'\n",
    "\n",
    "# DataFrame da coluna utm_term com suas porcentagens\n",
    "result_utm = pd.DataFrame({'utm_term': counts.index, 'Porcentagem': percentages}).reset_index(drop=True)\n",
    "result_utm"
   ]
  },
  {
   "cell_type": "code",
   "execution_count": 884,
   "id": "ab1c87d7",
   "metadata": {},
   "outputs": [
    {
     "data": {
      "image/png": "[encoded data removed]",
      "text/plain": [
       "<Figure size 1200x600 with 1 Axes>"
      ]
     },
     "metadata": {},
     "output_type": "display_data"
    }
   ],
   "source": [
    "# Plotagem\n",
    "\n",
    "term_counts = tabela_utm['utm_term'].value_counts(normalize=True)\n",
    "\n",
    "colors = sns.color_palette(\"Set2\")\n",
    "\n",
    "# Aumenta o tamanho da figura para dar mais espaço\n",
    "plt.figure(figsize=(12, 6))\n",
    "\n",
    "term_counts.head().plot(kind=\"barh\", color=colors)\n",
    "\n",
    "plt.title(\"Proporção do utm_term dos leads\")\n",
    "plt.legend().set_visible(False)\n",
    "\n",
    "# Inverte a ordem para exibir o maior valor na parte superior\n",
    "plt.gca().invert_yaxis()\n",
    "\n",
    "# Ajusta as margens para dar mais espaço à direita\n",
    "plt.subplots_adjust(right=0.85)\n",
    "\n",
    "# Adiciona os valores de proporção do lado direito das barras com ajuste\n",
    "for index, value in enumerate(term_counts.head()):\n",
    "    plt.text(value, index, f'{value:.2%}', va='center', color='black', ha='left', fontsize=10)\n",
    "\n",
    "# Ajusta o layout para evitar cortes\n",
    "plt.tight_layout()\n",
    "\n",
    "# Remove o nome da coluna do eixo y\n",
    "plt.gca().set_ylabel('')\n",
    "\n",
    "plt.show()"
   ]
  },
  {
   "cell_type": "code",
   "execution_count": 885,
   "id": "1300b59c",
   "metadata": {},
   "outputs": [
    {
     "data": {
      "image/png": "[encoded data removed]",
      "text/plain": [
       "<Figure size 800x400 with 1 Axes>"
      ]
     },
     "metadata": {},
     "output_type": "display_data"
    }
   ],
   "source": [
    "colors = sns.color_palette(\"Set2\")\n",
    "\n",
    "plt.figure(figsize=(8, 4))\n",
    "\n",
    "# Adiciona os valores das fatias com formatação percentual\n",
    "plt.pie(term_counts.head(), labels=term_counts.head().index, colors=colors, startangle=90, autopct='%1.1f%%')\n",
    "\n",
    "plt.show()"
   ]
  },
  {
   "cell_type": "markdown",
   "id": "c1c0db97",
   "metadata": {},
   "source": [
    "Nesses valores, representando o anúncio que trouxe o lead, **ad17** e **ad19** lideram como maiores pontos de tráfego, embora não possua uma disparidade nas frequências."
   ]
  },
  {
   "cell_type": "markdown",
   "id": "a5911f9a",
   "metadata": {},
   "source": [
    "#### Variável `utm_medium`"
   ]
  },
  {
   "cell_type": "code",
   "execution_count": 886,
   "id": "09b883d3",
   "metadata": {},
   "outputs": [
    {
     "data": {
      "text/plain": [
       "count                                           9996\n",
       "unique                                           109\n",
       "top       2.03_lookalike_1_compras_180D_ADS_Campeoes\n",
       "freq                                             980\n",
       "Name: utm_medium, dtype: object"
      ]
     },
     "execution_count": 886,
     "metadata": {},
     "output_type": "execute_result"
    }
   ],
   "source": [
    "tabela_utm['utm_medium'].describe()"
   ]
  },
  {
   "cell_type": "code",
   "execution_count": 887,
   "id": "11ec3b50",
   "metadata": {},
   "outputs": [
    {
     "data": {
      "text/html": [
       "<div>\n",
       "<style scoped>\n",
       "    .dataframe tbody tr th:only-of-type {\n",
       "        vertical-align: middle;\n",
       "    }\n",
       "\n",
       "    .dataframe tbody tr th {\n",
       "        vertical-align: top;\n",
       "    }\n",
       "\n",
       "    .dataframe thead th {\n",
       "        text-align: right;\n",
       "    }\n",
       "</style>\n",
       "<table border=\"1\" class=\"dataframe\">\n",
       "  <thead>\n",
       "    <tr style=\"text-align: right;\">\n",
       "      <th></th>\n",
       "      <th>utm_medium</th>\n",
       "      <th>Porcentagem</th>\n",
       "    </tr>\n",
       "  </thead>\n",
       "  <tbody>\n",
       "    <tr>\n",
       "      <th>0</th>\n",
       "      <td>2.03_lookalike_1_compras_180D_ADS_Campeoes</td>\n",
       "      <td>9.8%</td>\n",
       "    </tr>\n",
       "    <tr>\n",
       "      <th>1</th>\n",
       "      <td>captacao</td>\n",
       "      <td>7.0%</td>\n",
       "    </tr>\n",
       "    <tr>\n",
       "      <th>2</th>\n",
       "      <td>2.03_lookalike_1_compras_180D</td>\n",
       "      <td>5.0%</td>\n",
       "    </tr>\n",
       "    <tr>\n",
       "      <th>3</th>\n",
       "      <td>2.03_lookalike_3_compras_180D</td>\n",
       "      <td>4.5%</td>\n",
       "    </tr>\n",
       "    <tr>\n",
       "      <th>4</th>\n",
       "      <td>2.03_lookalike_3_compras_180D_ADS_Campeoes_Adv...</td>\n",
       "      <td>3.6%</td>\n",
       "    </tr>\n",
       "    <tr>\n",
       "      <th>...</th>\n",
       "      <td>...</td>\n",
       "      <td>...</td>\n",
       "    </tr>\n",
       "    <tr>\n",
       "      <th>104</th>\n",
       "      <td>youtube</td>\n",
       "      <td>0.0%</td>\n",
       "    </tr>\n",
       "    <tr>\n",
       "      <th>105</th>\n",
       "      <td>1.00_Envolvimentos_30D</td>\n",
       "      <td>0.0%</td>\n",
       "    </tr>\n",
       "    <tr>\n",
       "      <th>106</th>\n",
       "      <td>1.06_Envolvimento_180D</td>\n",
       "      <td>0.0%</td>\n",
       "    </tr>\n",
       "    <tr>\n",
       "      <th>107</th>\n",
       "      <td>sem-utmmedium</td>\n",
       "      <td>0.0%</td>\n",
       "    </tr>\n",
       "    <tr>\n",
       "      <th>108</th>\n",
       "      <td>1.00_Listas</td>\n",
       "      <td>0.0%</td>\n",
       "    </tr>\n",
       "  </tbody>\n",
       "</table>\n",
       "<p>109 rows × 2 columns</p>\n",
       "</div>"
      ],
      "text/plain": [
       "                                            utm_medium Porcentagem\n",
       "0           2.03_lookalike_1_compras_180D_ADS_Campeoes        9.8%\n",
       "1                                             captacao        7.0%\n",
       "2                        2.03_lookalike_1_compras_180D        5.0%\n",
       "3                        2.03_lookalike_3_compras_180D        4.5%\n",
       "4    2.03_lookalike_3_compras_180D_ADS_Campeoes_Adv...        3.6%\n",
       "..                                                 ...         ...\n",
       "104                                            youtube        0.0%\n",
       "105                             1.00_Envolvimentos_30D        0.0%\n",
       "106                             1.06_Envolvimento_180D        0.0%\n",
       "107                                      sem-utmmedium        0.0%\n",
       "108                                        1.00_Listas        0.0%\n",
       "\n",
       "[109 rows x 2 columns]"
      ]
     },
     "execution_count": 887,
     "metadata": {},
     "output_type": "execute_result"
    }
   ],
   "source": [
    "# Contagem normalizadas\n",
    "counts = tabela_utm['utm_medium'].value_counts(normalize=True)\n",
    "percentages = (counts * 100).round(1).astype(str) + '%'\n",
    "\n",
    "# DataFrame da coluna utm_medium com suas porcentagens\n",
    "result_utm = pd.DataFrame({'utm_medium': counts.index, 'Porcentagem': percentages}).reset_index(drop=True)\n",
    "result_utm"
   ]
  },
  {
   "cell_type": "code",
   "execution_count": 888,
   "id": "23cba975",
   "metadata": {},
   "outputs": [
    {
     "data": {
      "image/png": "[encoded data removed]",
      "text/plain": [
       "<Figure size 1200x600 with 1 Axes>"
      ]
     },
     "metadata": {},
     "output_type": "display_data"
    }
   ],
   "source": [
    "# Plotagem\n",
    "\n",
    "medium_counts = tabela_utm['utm_medium'].value_counts(normalize=True)\n",
    "\n",
    "colors = sns.color_palette(\"Set2\")\n",
    "\n",
    "# Aumenta o tamanho da figura para dar mais espaço\n",
    "plt.figure(figsize=(12, 6))\n",
    "\n",
    "medium_counts.head(10).plot(kind=\"barh\", color=colors)\n",
    "\n",
    "plt.title(\"Proporção do utm_medium dos leads\")\n",
    "plt.legend().set_visible(False)\n",
    "\n",
    "# Inverte a ordem para exibir o maior valor na parte superior\n",
    "plt.gca().invert_yaxis()\n",
    "\n",
    "# Ajusta as margens para dar mais espaço à direita\n",
    "plt.subplots_adjust(right=0.85)\n",
    "\n",
    "# Adiciona os valores de proporção do lado direito das barras com ajuste\n",
    "for index, value in enumerate(medium_counts.head(10)):\n",
    "    plt.text(value, index, f'{value:.2%}', va='center', color='black', ha='left', fontsize=10)\n",
    "\n",
    "# Ajusta o layout para evitar cortes\n",
    "plt.tight_layout()\n",
    "\n",
    "# Remove o nome da coluna do eixo y\n",
    "plt.gca().set_ylabel('')\n",
    "\n",
    "plt.show()"
   ]
  },
  {
   "cell_type": "markdown",
   "id": "187925b7",
   "metadata": {},
   "source": [
    "Nessa análise, observamos que o público nos meios de tráfegos possuem um certo equilíbro nas suas frequências, com uma leve maioria no **2.03_lookalike_1_compras_180D_ADS_Campeoes**."
   ]
  },
  {
   "cell_type": "markdown",
   "id": "39701768",
   "metadata": {},
   "source": [
    "### 3.1.2 Tabela  leads compradores"
   ]
  },
  {
   "cell_type": "code",
   "execution_count": 889,
   "id": "3474da1e",
   "metadata": {},
   "outputs": [
    {
     "name": "stdout",
     "output_type": "stream",
     "text": [
      "Dos 9999 leads inscritos no lançamento, 71 executaram a compra, que corresponde a 0.71% do total de leads.\n"
     ]
    }
   ],
   "source": [
    "leads_count = tabela_utm['email'].count()\n",
    "comp_count = tabela_vendas['email'].count()\n",
    "total = comp_count/leads_count * 100\n",
    "print('Dos {} leads inscritos no lançamento, {} executaram a compra, que corresponde a {:.2f}% do total de leads.'.format(leads_count,comp_count,total))"
   ]
  },
  {
   "cell_type": "markdown",
   "id": "e4a2d0e1",
   "metadata": {},
   "source": [
    "### 3.1.3 Tabela de links de origem dos dados"
   ]
  },
  {
   "cell_type": "code",
   "execution_count": 890,
   "id": "b3333a92",
   "metadata": {},
   "outputs": [
    {
     "name": "stdout",
     "output_type": "stream",
     "text": [
      "Existem 53 links para alguns dos anúncios retratados como origem dos leads.\n"
     ]
    }
   ],
   "source": [
    "links_count = tabela_links['utm_term'].count()\n",
    "print('Existem {} links para alguns dos anúncios retratados como origem dos leads.'.format(links_count))"
   ]
  },
  {
   "cell_type": "markdown",
   "id": "a080a299",
   "metadata": {},
   "source": [
    "### 3.1.4 Tabela dados pessoais"
   ]
  },
  {
   "cell_type": "markdown",
   "id": "319beae2",
   "metadata": {},
   "source": [
    "Como esses dados representam alguns dos leads e ja temos análises individuais dos seus domínios, iremos analisar as outras variáveis."
   ]
  },
  {
   "cell_type": "markdown",
   "id": "a4b6b652",
   "metadata": {},
   "source": [
    "#### Variável `idade`"
   ]
  },
  {
   "cell_type": "code",
   "execution_count": 891,
   "id": "b9338d36",
   "metadata": {},
   "outputs": [
    {
     "data": {
      "text/plain": [
       "count             1321\n",
       "unique              10\n",
       "top       41 a 45 anos\n",
       "freq               257\n",
       "Name: idade, dtype: object"
      ]
     },
     "execution_count": 891,
     "metadata": {},
     "output_type": "execute_result"
    }
   ],
   "source": [
    "tabela_pesquisa['idade'].describe()"
   ]
  },
  {
   "cell_type": "code",
   "execution_count": 892,
   "id": "85c0aa54",
   "metadata": {},
   "outputs": [
    {
     "data": {
      "text/html": [
       "<div>\n",
       "<style scoped>\n",
       "    .dataframe tbody tr th:only-of-type {\n",
       "        vertical-align: middle;\n",
       "    }\n",
       "\n",
       "    .dataframe tbody tr th {\n",
       "        vertical-align: top;\n",
       "    }\n",
       "\n",
       "    .dataframe thead th {\n",
       "        text-align: right;\n",
       "    }\n",
       "</style>\n",
       "<table border=\"1\" class=\"dataframe\">\n",
       "  <thead>\n",
       "    <tr style=\"text-align: right;\">\n",
       "      <th></th>\n",
       "      <th>idade</th>\n",
       "      <th>Porcentagem</th>\n",
       "    </tr>\n",
       "  </thead>\n",
       "  <tbody>\n",
       "    <tr>\n",
       "      <th>0</th>\n",
       "      <td>41 a 45 anos</td>\n",
       "      <td>19.5%</td>\n",
       "    </tr>\n",
       "    <tr>\n",
       "      <th>1</th>\n",
       "      <td>46 a 50 anos</td>\n",
       "      <td>17.0%</td>\n",
       "    </tr>\n",
       "    <tr>\n",
       "      <th>2</th>\n",
       "      <td>36 a 40 anos</td>\n",
       "      <td>16.1%</td>\n",
       "    </tr>\n",
       "    <tr>\n",
       "      <th>3</th>\n",
       "      <td>51 a 55 anos</td>\n",
       "      <td>12.9%</td>\n",
       "    </tr>\n",
       "    <tr>\n",
       "      <th>4</th>\n",
       "      <td>31 a 35 anos</td>\n",
       "      <td>12.2%</td>\n",
       "    </tr>\n",
       "    <tr>\n",
       "      <th>5</th>\n",
       "      <td>acima de 60</td>\n",
       "      <td>7.0%</td>\n",
       "    </tr>\n",
       "    <tr>\n",
       "      <th>6</th>\n",
       "      <td>56 a 60 anos</td>\n",
       "      <td>6.9%</td>\n",
       "    </tr>\n",
       "    <tr>\n",
       "      <th>7</th>\n",
       "      <td>26 a 30 anos</td>\n",
       "      <td>5.1%</td>\n",
       "    </tr>\n",
       "    <tr>\n",
       "      <th>8</th>\n",
       "      <td>21 a 25 anos</td>\n",
       "      <td>2.2%</td>\n",
       "    </tr>\n",
       "    <tr>\n",
       "      <th>9</th>\n",
       "      <td>até 20 anos</td>\n",
       "      <td>1.1%</td>\n",
       "    </tr>\n",
       "  </tbody>\n",
       "</table>\n",
       "</div>"
      ],
      "text/plain": [
       "          idade Porcentagem\n",
       "0  41 a 45 anos       19.5%\n",
       "1  46 a 50 anos       17.0%\n",
       "2  36 a 40 anos       16.1%\n",
       "3  51 a 55 anos       12.9%\n",
       "4  31 a 35 anos       12.2%\n",
       "5   acima de 60        7.0%\n",
       "6  56 a 60 anos        6.9%\n",
       "7  26 a 30 anos        5.1%\n",
       "8  21 a 25 anos        2.2%\n",
       "9   até 20 anos        1.1%"
      ]
     },
     "execution_count": 892,
     "metadata": {},
     "output_type": "execute_result"
    }
   ],
   "source": [
    "# Contagem normalizadas\n",
    "counts = tabela_pesquisa['idade'].value_counts(normalize=True)\n",
    "percentages = (counts * 100).round(1).astype(str) + '%'\n",
    "\n",
    "# DataFrame da coluna idade com suas porcentagens\n",
    "result_utm = pd.DataFrame({'idade': counts.index, 'Porcentagem': percentages}).reset_index(drop=True)\n",
    "result_utm"
   ]
  },
  {
   "cell_type": "code",
   "execution_count": 893,
   "id": "d21821e3",
   "metadata": {},
   "outputs": [
    {
     "data": {
      "image/png": "[encoded data removed]",
      "text/plain": [
       "<Figure size 1200x600 with 1 Axes>"
      ]
     },
     "metadata": {},
     "output_type": "display_data"
    }
   ],
   "source": [
    "# Plotagem\n",
    "\n",
    "idade_counts = tabela_pesquisa['idade'].value_counts(normalize=True)\n",
    "\n",
    "colors = sns.color_palette(\"Set2\")\n",
    "\n",
    "# Aumenta o tamanho da figura para dar mais espaço\n",
    "plt.figure(figsize=(12, 6))\n",
    "\n",
    "idade_counts.plot(kind=\"barh\", color=colors)\n",
    "\n",
    "plt.title(\"Proporção de idade dos leads\")\n",
    "plt.legend().set_visible(False)\n",
    "\n",
    "# Inverte a ordem para exibir o maior valor na parte superior\n",
    "plt.gca().invert_yaxis()\n",
    "\n",
    "# Ajusta as margens para dar mais espaço à direita\n",
    "plt.subplots_adjust(right=0.85)\n",
    "\n",
    "# Adiciona os valores de proporção do lado direito das barras com ajuste\n",
    "for index, value in enumerate(idade_counts.head(10)):\n",
    "    plt.text(value, index, f'{value:.2%}', va='center', color='black', ha='left', fontsize=10)\n",
    "\n",
    "# Ajusta o layout para evitar cortes\n",
    "plt.tight_layout()\n",
    "\n",
    "# Remove o nome da coluna do eixo y\n",
    "plt.gca().set_ylabel('')\n",
    "\n",
    "plt.show()"
   ]
  },
  {
   "cell_type": "markdown",
   "id": "bf776f78",
   "metadata": {},
   "source": [
    "Podemos observar que há um equilíbrio na porcentagem de idades dos leads, com uma leve vantagem para idades entre **31 e 55** anos. Talvez seja interessante focar em anúncios para essa faixa etária."
   ]
  },
  {
   "cell_type": "markdown",
   "id": "b444b91d",
   "metadata": {},
   "source": [
    "#### Variável `renda`"
   ]
  },
  {
   "cell_type": "code",
   "execution_count": 894,
   "id": "c18c6316",
   "metadata": {},
   "outputs": [
    {
     "data": {
      "text/plain": [
       "count                1321\n",
       "unique                  4\n",
       "top       Até 1.500 reais\n",
       "freq                  703\n",
       "Name: renda, dtype: object"
      ]
     },
     "execution_count": 894,
     "metadata": {},
     "output_type": "execute_result"
    }
   ],
   "source": [
    "tabela_pesquisa['renda'].describe()"
   ]
  },
  {
   "cell_type": "code",
   "execution_count": 895,
   "id": "0e307a56",
   "metadata": {},
   "outputs": [
    {
     "data": {
      "text/html": [
       "<div>\n",
       "<style scoped>\n",
       "    .dataframe tbody tr th:only-of-type {\n",
       "        vertical-align: middle;\n",
       "    }\n",
       "\n",
       "    .dataframe tbody tr th {\n",
       "        vertical-align: top;\n",
       "    }\n",
       "\n",
       "    .dataframe thead th {\n",
       "        text-align: right;\n",
       "    }\n",
       "</style>\n",
       "<table border=\"1\" class=\"dataframe\">\n",
       "  <thead>\n",
       "    <tr style=\"text-align: right;\">\n",
       "      <th></th>\n",
       "      <th>renda</th>\n",
       "      <th>Porcentagem</th>\n",
       "    </tr>\n",
       "  </thead>\n",
       "  <tbody>\n",
       "    <tr>\n",
       "      <th>0</th>\n",
       "      <td>Até 1.500 reais</td>\n",
       "      <td>53.2%</td>\n",
       "    </tr>\n",
       "    <tr>\n",
       "      <th>1</th>\n",
       "      <td>De 1.500 a 3.000 reais</td>\n",
       "      <td>26.3%</td>\n",
       "    </tr>\n",
       "    <tr>\n",
       "      <th>2</th>\n",
       "      <td>De 3.000 reais a 5.000 reais</td>\n",
       "      <td>12.7%</td>\n",
       "    </tr>\n",
       "    <tr>\n",
       "      <th>3</th>\n",
       "      <td>Mais de 5.000 reais</td>\n",
       "      <td>7.8%</td>\n",
       "    </tr>\n",
       "  </tbody>\n",
       "</table>\n",
       "</div>"
      ],
      "text/plain": [
       "                          renda Porcentagem\n",
       "0               Até 1.500 reais       53.2%\n",
       "1        De 1.500 a 3.000 reais       26.3%\n",
       "2  De 3.000 reais a 5.000 reais       12.7%\n",
       "3           Mais de 5.000 reais        7.8%"
      ]
     },
     "execution_count": 895,
     "metadata": {},
     "output_type": "execute_result"
    }
   ],
   "source": [
    "# Contagem normalizadas\n",
    "counts = tabela_pesquisa['renda'].value_counts(normalize=True)\n",
    "percentages = (counts * 100).round(1).astype(str) + '%'\n",
    "\n",
    "# DataFrame da coluna renda com suas porcentagens\n",
    "result_utm = pd.DataFrame({'renda': counts.index, 'Porcentagem': percentages}).reset_index(drop=True)\n",
    "result_utm"
   ]
  },
  {
   "cell_type": "code",
   "execution_count": 896,
   "id": "42b53cf6",
   "metadata": {},
   "outputs": [
    {
     "data": {
      "image/png": "[encoded data removed]",
      "text/plain": [
       "<Figure size 800x400 with 1 Axes>"
      ]
     },
     "metadata": {},
     "output_type": "display_data"
    }
   ],
   "source": [
    "# Plotagem\n",
    "\n",
    "renda_counts = tabela_pesquisa['renda'].value_counts(normalize=True)\n",
    "\n",
    "colors = sns.color_palette(\"Set2\")\n",
    "\n",
    "plt.figure(figsize=(8, 4))\n",
    "\n",
    "# Adiciona os valores das fatias com formatação percentual\n",
    "plt.pie(renda_counts, labels=renda_counts.index, colors=colors, startangle=90, autopct='%1.1f%%')\n",
    "\n",
    "plt.show()"
   ]
  },
  {
   "cell_type": "markdown",
   "id": "d4cfd127",
   "metadata": {},
   "source": [
    "A grande maioria dos leads possuem rendas **abaixo de 1500 reais**, com uma leve quantidade entre **1500 a 3000 reais**."
   ]
  },
  {
   "cell_type": "markdown",
   "id": "29b6f3cd",
   "metadata": {},
   "source": [
    "#### Variável `tempo_me_conhece`"
   ]
  },
  {
   "cell_type": "code",
   "execution_count": 897,
   "id": "0877e886",
   "metadata": {},
   "outputs": [
    {
     "data": {
      "text/plain": [
       "count               1321\n",
       "unique                 5\n",
       "top       Menos de 1 mês\n",
       "freq                 806\n",
       "Name: tempo_me_conhece, dtype: object"
      ]
     },
     "execution_count": 897,
     "metadata": {},
     "output_type": "execute_result"
    }
   ],
   "source": [
    "tabela_pesquisa['tempo_me_conhece'].describe()"
   ]
  },
  {
   "cell_type": "code",
   "execution_count": 898,
   "id": "d7a867db",
   "metadata": {},
   "outputs": [
    {
     "data": {
      "text/html": [
       "<div>\n",
       "<style scoped>\n",
       "    .dataframe tbody tr th:only-of-type {\n",
       "        vertical-align: middle;\n",
       "    }\n",
       "\n",
       "    .dataframe tbody tr th {\n",
       "        vertical-align: top;\n",
       "    }\n",
       "\n",
       "    .dataframe thead th {\n",
       "        text-align: right;\n",
       "    }\n",
       "</style>\n",
       "<table border=\"1\" class=\"dataframe\">\n",
       "  <thead>\n",
       "    <tr style=\"text-align: right;\">\n",
       "      <th></th>\n",
       "      <th>tempo_me_conhece</th>\n",
       "      <th>Porcentagem</th>\n",
       "    </tr>\n",
       "  </thead>\n",
       "  <tbody>\n",
       "    <tr>\n",
       "      <th>0</th>\n",
       "      <td>Menos de 1 mês</td>\n",
       "      <td>61.0%</td>\n",
       "    </tr>\n",
       "    <tr>\n",
       "      <th>1</th>\n",
       "      <td>Mais de 2 anos</td>\n",
       "      <td>10.6%</td>\n",
       "    </tr>\n",
       "    <tr>\n",
       "      <th>2</th>\n",
       "      <td>De 1 a 2 anos</td>\n",
       "      <td>9.7%</td>\n",
       "    </tr>\n",
       "    <tr>\n",
       "      <th>3</th>\n",
       "      <td>De 2 a 6 meses</td>\n",
       "      <td>9.6%</td>\n",
       "    </tr>\n",
       "    <tr>\n",
       "      <th>4</th>\n",
       "      <td>De 6 meses a 1 ano</td>\n",
       "      <td>9.1%</td>\n",
       "    </tr>\n",
       "  </tbody>\n",
       "</table>\n",
       "</div>"
      ],
      "text/plain": [
       "     tempo_me_conhece Porcentagem\n",
       "0      Menos de 1 mês       61.0%\n",
       "1      Mais de 2 anos       10.6%\n",
       "2       De 1 a 2 anos        9.7%\n",
       "3      De 2 a 6 meses        9.6%\n",
       "4  De 6 meses a 1 ano        9.1%"
      ]
     },
     "execution_count": 898,
     "metadata": {},
     "output_type": "execute_result"
    }
   ],
   "source": [
    "# Contagem normalizadas\n",
    "counts = tabela_pesquisa['tempo_me_conhece'].value_counts(normalize=True)\n",
    "percentages = (counts * 100).round(1).astype(str) + '%'\n",
    "\n",
    "# DataFrame da coluna tempo_me_conhece com suas porcentagens\n",
    "result_utm = pd.DataFrame({'tempo_me_conhece': counts.index, 'Porcentagem': percentages}).reset_index(drop=True)\n",
    "result_utm"
   ]
  },
  {
   "cell_type": "code",
   "execution_count": 993,
   "id": "9565a06c",
   "metadata": {},
   "outputs": [
    {
     "data": {
      "image/png": "[encoded data removed]",
      "text/plain": [
       "<Figure size 800x400 with 1 Axes>"
      ]
     },
     "metadata": {},
     "output_type": "display_data"
    }
   ],
   "source": [
    "# Plotagem\n",
    "\n",
    "tempo_me_conhece_counts = tabela_pesquisa['tempo_me_conhece'].value_counts(normalize=True)\n",
    "\n",
    "colors = sns.color_palette(\"Set2\")\n",
    "\n",
    "plt.figure(figsize=(8, 4))\n",
    "\n",
    "# Adiciona os valores das fatias com formatação percentual\n",
    "plt.pie(tempo_me_conhece_counts, labels=tempo_me_conhece_counts.index, colors=colors, startangle=90, autopct='%1.1f%%')\n",
    "\n",
    "plt.show()"
   ]
  },
  {
   "cell_type": "markdown",
   "id": "deea0db3",
   "metadata": {},
   "source": [
    "A grande maioria dos leads conhecem há menos de 1 mês o expert, ou seja, provavelmente ficou conhecido após o lançamento."
   ]
  },
  {
   "cell_type": "markdown",
   "id": "7b680f39",
   "metadata": {},
   "source": [
    "## 3.2 Análise Multivariada"
   ]
  },
  {
   "cell_type": "markdown",
   "id": "c208c30d",
   "metadata": {},
   "source": [
    "### 3.2.1 Hipóteses"
   ]
  },
  {
   "cell_type": "markdown",
   "id": "58a300f1",
   "metadata": {},
   "source": [
    "#### Hipótese 1"
   ]
  },
  {
   "cell_type": "markdown",
   "id": "8df60ccc",
   "metadata": {},
   "source": [
    "A ordem das fontes `utm_source` dos compradores segue a mesma tendência observada nos leads. - **VERDADEIRO**"
   ]
  },
  {
   "cell_type": "markdown",
   "id": "83b2aac1",
   "metadata": {},
   "source": [
    "* A tabela de leads mostra uma ordem específica de frequência para cada utm_source mostrada no gŕafico. Na tabela de compradores, essa ordem se mantém, com destaque para Facebook Ads, seguido por ManyChat, Bio, Google Leads, Stories, Email, Direct, e YouTube.\n",
    "\n",
    "* **Podemos direcionar nossos investimentos em anúncios seguindo a ordem de frequência apresentada nos gráficos, com ênfase especial no Facebook Ads, que se destaca com a maior frequência entre todas as plataformas.** "
   ]
  },
  {
   "cell_type": "code",
   "execution_count": 904,
   "id": "a0e84085",
   "metadata": {},
   "outputs": [
    {
     "data": {
      "text/html": [
       "<div>\n",
       "<style scoped>\n",
       "    .dataframe tbody tr th:only-of-type {\n",
       "        vertical-align: middle;\n",
       "    }\n",
       "\n",
       "    .dataframe tbody tr th {\n",
       "        vertical-align: top;\n",
       "    }\n",
       "\n",
       "    .dataframe thead th {\n",
       "        text-align: right;\n",
       "    }\n",
       "</style>\n",
       "<table border=\"1\" class=\"dataframe\">\n",
       "  <thead>\n",
       "    <tr style=\"text-align: right;\">\n",
       "      <th></th>\n",
       "      <th>Porcentagem_leads</th>\n",
       "      <th>Porcentagem_compradores</th>\n",
       "    </tr>\n",
       "    <tr>\n",
       "      <th>utm_source</th>\n",
       "      <th></th>\n",
       "      <th></th>\n",
       "    </tr>\n",
       "  </thead>\n",
       "  <tbody>\n",
       "    <tr>\n",
       "      <th>facebookads</th>\n",
       "      <td>84.1%</td>\n",
       "      <td>56.3%</td>\n",
       "    </tr>\n",
       "    <tr>\n",
       "      <th>manychat</th>\n",
       "      <td>6.0%</td>\n",
       "      <td>18.3%</td>\n",
       "    </tr>\n",
       "    <tr>\n",
       "      <th>bio</th>\n",
       "      <td>3.2%</td>\n",
       "      <td>9.9%</td>\n",
       "    </tr>\n",
       "    <tr>\n",
       "      <th>googleads</th>\n",
       "      <td>2.6%</td>\n",
       "      <td>5.6%</td>\n",
       "    </tr>\n",
       "    <tr>\n",
       "      <th>stories</th>\n",
       "      <td>2.5%</td>\n",
       "      <td>5.6%</td>\n",
       "    </tr>\n",
       "    <tr>\n",
       "      <th>email</th>\n",
       "      <td>1.1%</td>\n",
       "      <td>1.4%</td>\n",
       "    </tr>\n",
       "    <tr>\n",
       "      <th>direct</th>\n",
       "      <td>0.1%</td>\n",
       "      <td>1.4%</td>\n",
       "    </tr>\n",
       "    <tr>\n",
       "      <th>youtube</th>\n",
       "      <td>0.0%</td>\n",
       "      <td>1.4%</td>\n",
       "    </tr>\n",
       "  </tbody>\n",
       "</table>\n",
       "</div>"
      ],
      "text/plain": [
       "            Porcentagem_leads Porcentagem_compradores\n",
       "utm_source                                           \n",
       "facebookads             84.1%                   56.3%\n",
       "manychat                 6.0%                   18.3%\n",
       "bio                      3.2%                    9.9%\n",
       "googleads                2.6%                    5.6%\n",
       "stories                  2.5%                    5.6%\n",
       "email                    1.1%                    1.4%\n",
       "direct                   0.1%                    1.4%\n",
       "youtube                  0.0%                    1.4%"
      ]
     },
     "execution_count": 904,
     "metadata": {},
     "output_type": "execute_result"
    }
   ],
   "source": [
    "emails_comum = tabela_utm[tabela_utm['email'].isin(tabela_vendas['email'])]\n",
    "\n",
    "# Contagem normalizadas\n",
    "counts1= tabela_utm['utm_source'].value_counts(normalize=True)\n",
    "percentages1 = (counts1 * 100).round(1).astype(str) + '%'\n",
    "\n",
    "# DataFrame da coluna utm_source com suas porcentagens\n",
    "result_utm1 = pd.DataFrame({'utm_source': counts1.index, 'Porcentagem_leads': percentages1}).reset_index(drop=True)\n",
    "result_utm1 = result_utm1.set_index('utm_source')\n",
    "\n",
    "# Contagem normalizadas\n",
    "counts2= emails_comum['utm_source'].value_counts(normalize=True)\n",
    "percentages2 = (counts2 * 100).round(1).astype(str) + '%'\n",
    "\n",
    "# DataFrame da coluna utm_source com suas porcentagens\n",
    "result_utm2 = pd.DataFrame({'utm_source': counts2.index, 'Porcentagem_compradores': percentages2}).reset_index(drop=True)\n",
    "result_utm2 = result_utm2.set_index('utm_source')\n",
    "\n",
    "result_utm = result_utm1.merge(result_utm2, left_index=True, right_index=True)\n",
    "result_utm"
   ]
  },
  {
   "cell_type": "code",
   "execution_count": 905,
   "id": "d293f29d",
   "metadata": {},
   "outputs": [
    {
     "data": {
      "image/png": "[encoded data removed]",
      "text/plain": [
       "<Figure size 1200x600 with 1 Axes>"
      ]
     },
     "metadata": {},
     "output_type": "display_data"
    }
   ],
   "source": [
    "# Transformar em float\n",
    "result_utm['Porcentagem_leads'] = result_utm['Porcentagem_leads'].str.rstrip('%').astype(float)\n",
    "result_utm['Porcentagem_compradores'] = result_utm['Porcentagem_compradores'].str.rstrip('%').astype(float)\n",
    "\n",
    "sns.set()\n",
    "\n",
    "# Criando o gráfico de barras empilhadas\n",
    "result_utm.plot(kind='barh', stacked=True, figsize=(12, 6))\n",
    "\n",
    "# Inverte a ordem para exibir o maior valor na parte superior\n",
    "plt.gca().invert_yaxis()\n",
    "\n",
    "plt.legend(loc='lower right')\n",
    "plt.title('Proporção de `utm_source` entre leads e compradores', fontsize=16)\n",
    "\n",
    "# Ajusta o layout para evitar cortes\n",
    "plt.tight_layout()\n",
    "\n",
    "# Remove o nome da coluna do eixo y\n",
    "plt.gca().set_ylabel('')\n",
    "\n",
    "plt.show()"
   ]
  },
  {
   "cell_type": "markdown",
   "id": "8ce7ccf0",
   "metadata": {},
   "source": [
    "#### Hipótese 2"
   ]
  },
  {
   "cell_type": "markdown",
   "id": "8191e09a",
   "metadata": {},
   "source": [
    "A ordem das fontes `renda` dos compradores segue a mesma tendência observada nos leads. - **Falso**"
   ]
  },
  {
   "cell_type": "markdown",
   "id": "f0fa9bd3",
   "metadata": {},
   "source": [
    "* A tabela de leads revela uma ordem específica de frequência para cada faixa de renda apresentada no gráfico. No entanto, na tabela de compradores, essa ordem não é mantida. Apenas a faixa de renda até 1.500 reais segue a mesma ordem, enquanto os clientes com rendas acima de 3.000 reais mostraram uma alta porcentagem de compras. Em contraste, a maioria dos leads tinha renda inferior a 3.000 reais.\n",
    "* **Podemos direcionar nossos investimentos em anúncios para pessoas com renda maior que 3000 reais.** \n",
    "* **Podemos realizar algumas promoções para pessoas com renda menor que 3000 reais.** "
   ]
  },
  {
   "cell_type": "code",
   "execution_count": 963,
   "id": "56faf651",
   "metadata": {},
   "outputs": [],
   "source": [
    "contagem = tabela_utm['email'].value_counts()\n",
    "duplicados = contagem[contagem > 1].index\n",
    "df_unicos = tabela_utm[~tabela_utm['email'].isin(duplicados)]\n",
    "\n",
    "contagem1 = tabela_pesquisa['email'].value_counts()\n",
    "duplicados1 = contagem1[contagem1 > 1].index\n",
    "df_unicos1 = tabela_pesquisa[~tabela_pesquisa['email'].isin(duplicados1)]\n",
    "\n",
    "emails_comum2 = df_unicos[df_unicos['email'].isin(df_unicos1['email'])]\n",
    "emails_comum2 = emails_comum2.merge(df_unicos1, on='email',suffixes=('', '_drop'))\n",
    "emails_comum2 = emails_comum2.filter(regex='^(?!.*_drop)')"
   ]
  },
  {
   "cell_type": "code",
   "execution_count": 964,
   "id": "74064dd7",
   "metadata": {},
   "outputs": [
    {
     "data": {
      "text/html": [
       "<div>\n",
       "<style scoped>\n",
       "    .dataframe tbody tr th:only-of-type {\n",
       "        vertical-align: middle;\n",
       "    }\n",
       "\n",
       "    .dataframe tbody tr th {\n",
       "        vertical-align: top;\n",
       "    }\n",
       "\n",
       "    .dataframe thead th {\n",
       "        text-align: right;\n",
       "    }\n",
       "</style>\n",
       "<table border=\"1\" class=\"dataframe\">\n",
       "  <thead>\n",
       "    <tr style=\"text-align: right;\">\n",
       "      <th></th>\n",
       "      <th>Porcentagem_leads</th>\n",
       "    </tr>\n",
       "    <tr>\n",
       "      <th>renda</th>\n",
       "      <th></th>\n",
       "    </tr>\n",
       "  </thead>\n",
       "  <tbody>\n",
       "    <tr>\n",
       "      <th>Até 1.500 reais</th>\n",
       "      <td>53.4%</td>\n",
       "    </tr>\n",
       "    <tr>\n",
       "      <th>De 1.500 a 3.000 reais</th>\n",
       "      <td>26.0%</td>\n",
       "    </tr>\n",
       "    <tr>\n",
       "      <th>De 3.000 reais a 5.000 reais</th>\n",
       "      <td>12.8%</td>\n",
       "    </tr>\n",
       "    <tr>\n",
       "      <th>Mais de 5.000 reais</th>\n",
       "      <td>7.8%</td>\n",
       "    </tr>\n",
       "  </tbody>\n",
       "</table>\n",
       "</div>"
      ],
      "text/plain": [
       "                             Porcentagem_leads\n",
       "renda                                         \n",
       "Até 1.500 reais                          53.4%\n",
       "De 1.500 a 3.000 reais                   26.0%\n",
       "De 3.000 reais a 5.000 reais             12.8%\n",
       "Mais de 5.000 reais                       7.8%"
      ]
     },
     "execution_count": 964,
     "metadata": {},
     "output_type": "execute_result"
    }
   ],
   "source": [
    "# Contagem normalizadas\n",
    "counts3= emails_comum2['renda'].value_counts(normalize=True)\n",
    "percentages3 = (counts3 * 100).round(1).astype(str) + '%'\n",
    "\n",
    "# DataFrame da coluna renda com suas porcentagens\n",
    "result_utm2 = pd.DataFrame({'renda': counts3.index, 'Porcentagem_leads': percentages3}).reset_index(drop=True)\n",
    "result_utm2 = result_utm2.set_index('renda')\n",
    "result_utm2"
   ]
  },
  {
   "cell_type": "code",
   "execution_count": 965,
   "id": "687f0e6c",
   "metadata": {},
   "outputs": [],
   "source": [
    "emails_comum3 = tabela_vendas[tabela_vendas['email'].isin(df_unicos1['email'])]\n",
    "emails_comum3 = emails_comum3.merge(df_unicos1, on='email',suffixes=('', '_drop'))\n",
    "emails_comum3 = emails_comum3.filter(regex='^(?!.*_drop)')"
   ]
  },
  {
   "cell_type": "code",
   "execution_count": 966,
   "id": "94e66379",
   "metadata": {},
   "outputs": [
    {
     "data": {
      "text/html": [
       "<div>\n",
       "<style scoped>\n",
       "    .dataframe tbody tr th:only-of-type {\n",
       "        vertical-align: middle;\n",
       "    }\n",
       "\n",
       "    .dataframe tbody tr th {\n",
       "        vertical-align: top;\n",
       "    }\n",
       "\n",
       "    .dataframe thead th {\n",
       "        text-align: right;\n",
       "    }\n",
       "</style>\n",
       "<table border=\"1\" class=\"dataframe\">\n",
       "  <thead>\n",
       "    <tr style=\"text-align: right;\">\n",
       "      <th></th>\n",
       "      <th>Porcentagem_compradores</th>\n",
       "    </tr>\n",
       "    <tr>\n",
       "      <th>renda</th>\n",
       "      <th></th>\n",
       "    </tr>\n",
       "  </thead>\n",
       "  <tbody>\n",
       "    <tr>\n",
       "      <th>Até 1.500 reais</th>\n",
       "      <td>38.9%</td>\n",
       "    </tr>\n",
       "    <tr>\n",
       "      <th>De 3.000 reais a 5.000 reais</th>\n",
       "      <td>25.0%</td>\n",
       "    </tr>\n",
       "    <tr>\n",
       "      <th>Mais de 5.000 reais</th>\n",
       "      <td>19.4%</td>\n",
       "    </tr>\n",
       "    <tr>\n",
       "      <th>De 1.500 a 3.000 reais</th>\n",
       "      <td>16.7%</td>\n",
       "    </tr>\n",
       "  </tbody>\n",
       "</table>\n",
       "</div>"
      ],
      "text/plain": [
       "                             Porcentagem_compradores\n",
       "renda                                               \n",
       "Até 1.500 reais                                38.9%\n",
       "De 3.000 reais a 5.000 reais                   25.0%\n",
       "Mais de 5.000 reais                            19.4%\n",
       "De 1.500 a 3.000 reais                         16.7%"
      ]
     },
     "execution_count": 966,
     "metadata": {},
     "output_type": "execute_result"
    }
   ],
   "source": [
    "# Contagem normalizadas\n",
    "counts4= emails_comum3['renda'].value_counts(normalize=True)\n",
    "percentages4 = (counts4 * 100).round(1).astype(str) + '%'\n",
    "\n",
    "# DataFrame da coluna renda com suas porcentagens\n",
    "result_utm3 = pd.DataFrame({'renda': counts4.index, 'Porcentagem_compradores': percentages4}).reset_index(drop=True)\n",
    "result_utm3 = result_utm3.set_index('renda')\n",
    "result_utm3"
   ]
  },
  {
   "cell_type": "code",
   "execution_count": 967,
   "id": "651147b9",
   "metadata": {},
   "outputs": [
    {
     "data": {
      "text/html": [
       "<div>\n",
       "<style scoped>\n",
       "    .dataframe tbody tr th:only-of-type {\n",
       "        vertical-align: middle;\n",
       "    }\n",
       "\n",
       "    .dataframe tbody tr th {\n",
       "        vertical-align: top;\n",
       "    }\n",
       "\n",
       "    .dataframe thead th {\n",
       "        text-align: right;\n",
       "    }\n",
       "</style>\n",
       "<table border=\"1\" class=\"dataframe\">\n",
       "  <thead>\n",
       "    <tr style=\"text-align: right;\">\n",
       "      <th></th>\n",
       "      <th>Porcentagem_leads</th>\n",
       "      <th>Porcentagem_compradores</th>\n",
       "    </tr>\n",
       "    <tr>\n",
       "      <th>renda</th>\n",
       "      <th></th>\n",
       "      <th></th>\n",
       "    </tr>\n",
       "  </thead>\n",
       "  <tbody>\n",
       "    <tr>\n",
       "      <th>Até 1.500 reais</th>\n",
       "      <td>53.4%</td>\n",
       "      <td>38.9%</td>\n",
       "    </tr>\n",
       "    <tr>\n",
       "      <th>De 1.500 a 3.000 reais</th>\n",
       "      <td>26.0%</td>\n",
       "      <td>16.7%</td>\n",
       "    </tr>\n",
       "    <tr>\n",
       "      <th>De 3.000 reais a 5.000 reais</th>\n",
       "      <td>12.8%</td>\n",
       "      <td>25.0%</td>\n",
       "    </tr>\n",
       "    <tr>\n",
       "      <th>Mais de 5.000 reais</th>\n",
       "      <td>7.8%</td>\n",
       "      <td>19.4%</td>\n",
       "    </tr>\n",
       "  </tbody>\n",
       "</table>\n",
       "</div>"
      ],
      "text/plain": [
       "                             Porcentagem_leads Porcentagem_compradores\n",
       "renda                                                                 \n",
       "Até 1.500 reais                          53.4%                   38.9%\n",
       "De 1.500 a 3.000 reais                   26.0%                   16.7%\n",
       "De 3.000 reais a 5.000 reais             12.8%                   25.0%\n",
       "Mais de 5.000 reais                       7.8%                   19.4%"
      ]
     },
     "execution_count": 967,
     "metadata": {},
     "output_type": "execute_result"
    }
   ],
   "source": [
    "result_utm = pd.merge(result_utm2, result_utm3, left_index=True, right_index=True)\n",
    "result_utm"
   ]
  },
  {
   "cell_type": "code",
   "execution_count": 968,
   "id": "d7fe933d",
   "metadata": {},
   "outputs": [
    {
     "data": {
      "image/png": "[encoded data removed]",
      "text/plain": [
       "<Figure size 1000x600 with 1 Axes>"
      ]
     },
     "metadata": {},
     "output_type": "display_data"
    }
   ],
   "source": [
    "result_utm['Porcentagem_leads'] = result_utm['Porcentagem_leads'].str.rstrip('%').astype(float)\n",
    "result_utm['Porcentagem_compradores'] = result_utm['Porcentagem_compradores'].str.rstrip('%').astype(float)\n",
    "\n",
    "fig, ax = plt.subplots(figsize=(10, 6))\n",
    "\n",
    "bars_compradores = ax.barh(result_utm.index, result_utm['Porcentagem_compradores'], color='blue', label='Compradores', align='center')\n",
    "bars_leads = ax.barh(result_utm.index, -result_utm['Porcentagem_leads'], color='orange', label='Leads', align='center')\n",
    "\n",
    "# Adicionar valores dentro das barras de compradores\n",
    "for bar in bars_compradores:\n",
    "    width = bar.get_width()\n",
    "    ax.text(width * 0.5, bar.get_y() + bar.get_height() / 2, f'{width}%', va='center', ha='center', color='white', fontsize=10)\n",
    "\n",
    "# Adicionar valores dentro das barras de leads\n",
    "for bar in bars_leads:\n",
    "    width = -bar.get_width()  # Convertendo de volta para valor positivo\n",
    "    ax.text(-width * 0.5, bar.get_y() + bar.get_height() / 2, f'{width}%', va='center', ha='center', color='white', fontsize=10)\n",
    "\n",
    "# Ajustar o estilo\n",
    "ax.set_title('Distribuição de Renda: Compradores vs. Leads')\n",
    "ax.legend(loc='best')\n",
    "ax.set_xticks(range(-60, 70, 10))\n",
    "ax.set_xticklabels([str(abs(x)) + '%' for x in ax.get_xticks()])\n",
    "\n",
    "plt.grid(axis='x', linestyle='--', alpha=0.7)    \n",
    "    \n",
    "plt.show()"
   ]
  },
  {
   "cell_type": "code",
   "execution_count": null,
   "id": "84a6e1de",
   "metadata": {},
   "outputs": [],
   "source": []
  }
 ],
 "metadata": {
  "kernelspec": {
   "display_name": "Python 3 (ipykernel)",
   "language": "python",
   "name": "python3"
  },
  "language_info": {
   "codemirror_mode": {
    "name": "ipython",
    "version": 3
   },
   "file_extension": ".py",
   "mimetype": "text/x-python",
   "name": "python",
   "nbconvert_exporter": "python",
   "pygments_lexer": "ipython3",
   "version": "3.11.5"
  }
 },
 "nbformat": 4,
 "nbformat_minor": 5
}
